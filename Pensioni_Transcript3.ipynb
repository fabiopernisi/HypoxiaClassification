{
  "nbformat": 4,
  "nbformat_minor": 0,
  "metadata": {
    "colab": {
      "provenance": [],
      "authorship_tag": "ABX9TyPC+8Rpgqw9GbAtAxRtMBES",
      "include_colab_link": true
    },
    "kernelspec": {
      "name": "python3",
      "display_name": "Python 3"
    },
    "language_info": {
      "name": "python"
    }
  },
  "cells": [
    {
      "cell_type": "markdown",
      "metadata": {
        "id": "view-in-github",
        "colab_type": "text"
      },
      "source": [
        "<a href=\"https://colab.research.google.com/github/fabiopernisi/HypoxiaClassification/blob/main/Pensioni_Transcript3.ipynb\" target=\"_parent\"><img src=\"https://colab.research.google.com/assets/colab-badge.svg\" alt=\"Open In Colab\"/></a>"
      ]
    },
    {
      "cell_type": "code",
      "source": [
        "%%capture\n",
        "!pip install transformers"
      ],
      "metadata": {
        "id": "B0ufoYsju5vM"
      },
      "execution_count": null,
      "outputs": []
    },
    {
      "cell_type": "code",
      "source": [
        "from transformers import pipeline\n",
        "import pandas as pd\n",
        "import numpy as np\n",
        "from wordcloud import WordCloud\n",
        "import matplotlib.pyplot as plt\n",
        "import nltk\n",
        "from nltk.stem.snowball import ItalianStemmer\n",
        "import spacy\n",
        "import copy\n",
        "import numpy as np\n",
        "import torch\n",
        "from google.colab import files\n",
        "import pickle\n",
        "import ast"
      ],
      "metadata": {
        "id": "8O4_XN0cIRe8"
      },
      "execution_count": null,
      "outputs": []
    },
    {
      "cell_type": "code",
      "source": [
        "from google.colab import drive\n",
        "drive.mount('/content/gdrive', force_remount=True)"
      ],
      "metadata": {
        "colab": {
          "base_uri": "https://localhost:8080/"
        },
        "id": "cDW9BiStIa7r",
        "outputId": "08be746a-a8bf-4433-b733-0886be30f5e0"
      },
      "execution_count": null,
      "outputs": [
        {
          "output_type": "stream",
          "name": "stdout",
          "text": [
            "Mounted at /content/gdrive\n"
          ]
        }
      ]
    },
    {
      "cell_type": "code",
      "source": [
        "pensioni_df = pd.read_excel(\"/content/gdrive/MyDrive/Speech2Text/Pensioni/pensioni.xlsx\")\n",
        "\n",
        "audio_df = pd.read_excel(\"/content/gdrive/MyDrive/Speech2Text/Pensioni/temp_audio.xlsx\")\n",
        "open_df = pd.read_excel(\"/content/gdrive/MyDrive/Speech2Text/Pensioni/temp_open.xlsx\")\n",
        "choseaudio_df = pd.read_excel(\"/content/gdrive/MyDrive/Speech2Text/Pensioni/temp_choseaudio.xlsx\")\n",
        "choseopen_df = pd.read_excel(\"/content/gdrive/MyDrive/Speech2Text/Pensioni/temp_choseopen.xlsx\")\n",
        "\n",
        "#Make copies\n",
        "temp_audio_df = audio_df.copy(deep=True)\n",
        "temp_open_df = open_df.copy(deep=True)\n",
        "temp_choseaudio_df = choseaudio_df.copy(deep=True)\n",
        "temp_choseopen_df = choseopen_df.copy(deep=True)"
      ],
      "metadata": {
        "id": "hT0yK97gIDoW"
      },
      "execution_count": null,
      "outputs": []
    },
    {
      "cell_type": "code",
      "source": [
        "pensioni_df.columns"
      ],
      "metadata": {
        "colab": {
          "base_uri": "https://localhost:8080/"
        },
        "id": "SmuLSX7Ac3Fn",
        "outputId": "b48041bd-061f-4344-97df-c0e96d184780"
      },
      "execution_count": null,
      "outputs": [
        {
          "output_type": "execute_result",
          "data": {
            "text/plain": [
              "Index(['IDU', 'STARTTIME', 'ENDTIME', 'TOTALDURATION', 'p_sesso', 'p_r_eta',\n",
              "       'p_r_eta_6', 'generation', 'random', 'lega', 'p_comune_istat',\n",
              "       'p_geo_cap', 'p_r_ampiezza6', 'r_capoluogo', 'a_istat_reg',\n",
              "       'a_istat_prov', 'zona_5istat', 'p_occ_principale', 'p_prof',\n",
              "       'p_autocol', 'p_voto_pol22', 'p_int_voto', 'p_scolarita', 'scol2', 'd0',\n",
              "       'introaudio', 'data0', 'ora0', 'd1ap', 'd1', 'd1aperta', 'd1recorder',\n",
              "       'd1rec', 'data1', 'ora1', 'd2ap', 'd2', 'd2aperta', 'd2recorder',\n",
              "       'd2rec', 'data2', 'ora2', 'd3ap', 'd3', 'd3aperta', 'd3recorder',\n",
              "       'd3rec', 'data3', 'ora3', 'etapensione', 'annicontributi', 'platform'],\n",
              "      dtype='object')"
            ]
          },
          "metadata": {},
          "execution_count": 5
        }
      ]
    },
    {
      "cell_type": "code",
      "source": [
        "temp_pensioni = pensioni_df.copy(deep=True)"
      ],
      "metadata": {
        "id": "hs23CtLQrYfU"
      },
      "execution_count": null,
      "outputs": []
    },
    {
      "cell_type": "code",
      "source": [
        "d1ap_loc = temp_pensioni.columns.get_loc('d1ap')\n",
        "temp_pensioni.insert(d1ap_loc+1, \"label_d1_emotion\", np.zeros(temp_pensioni.shape[0]))\n",
        "\n",
        "label_d1ap_emotion_loc = temp_pensioni.columns.get_loc('label_d1_emotion')\n",
        "temp_pensioni.insert(label_d1ap_emotion_loc+1, \"score_d1_anger\", np.zeros(temp_pensioni.shape[0]))\n",
        "\n",
        "score_d1ap_anger_loc = temp_pensioni.columns.get_loc('score_d1_anger')\n",
        "temp_pensioni.insert(score_d1ap_anger_loc+1, \"score_d1_fear\", np.zeros(temp_pensioni.shape[0]))\n",
        "\n",
        "score_d1ap_fear_loc = temp_pensioni.columns.get_loc('score_d1_fear')\n",
        "temp_pensioni.insert(score_d1ap_fear_loc+1, \"score_d1_sadness\", np.zeros(temp_pensioni.shape[0]))\n",
        "\n",
        "score_d1ap_sadness_loc = temp_pensioni.columns.get_loc('score_d1_sadness')\n",
        "temp_pensioni.insert(score_d1ap_sadness_loc+1, \"score_d1_joy\", np.zeros(temp_pensioni.shape[0]))\n",
        "\n",
        "score_d1ap_joy_loc = temp_pensioni.columns.get_loc('score_d1_joy')\n",
        "temp_pensioni.insert(score_d1ap_joy_loc+1, \"score_d1_positive_sent\", np.zeros(temp_pensioni.shape[0]))"
      ],
      "metadata": {
        "id": "fM2pLt7Zrdlc"
      },
      "execution_count": null,
      "outputs": []
    },
    {
      "cell_type": "code",
      "source": [
        "# d1aperta_loc = temp_pensioni.columns.get_loc('d1aperta')\n",
        "# temp_pensioni.insert(d1aperta_loc+1, \"label_d1aperta_emotion\", np.zeros(temp_pensioni.shape[0]))\n",
        "\n",
        "# label_d1aperta_emotion_loc = temp_pensioni.columns.get_loc('label_d1aperta_emotion')\n",
        "# temp_pensioni.insert(label_d1aperta_emotion_loc+1, \"score_d1aperta_anger\", np.zeros(temp_pensioni.shape[0]))\n",
        "\n",
        "# score_d1aperta_anger_loc = temp_pensioni.columns.get_loc('score_d1aperta_anger')\n",
        "# temp_pensioni.insert(score_d1aperta_anger_loc+1, \"score_d1aperta_fear\", np.zeros(temp_pensioni.shape[0]))\n",
        "\n",
        "# score_d1aperta_fear_loc = temp_pensioni.columns.get_loc('score_d1aperta_fear')\n",
        "# temp_pensioni.insert(score_d1aperta_fear_loc+1, \"score_d1aperta_sadness\", np.zeros(temp_pensioni.shape[0]))\n",
        "\n",
        "# score_d1aperta_sadness_loc = temp_pensioni.columns.get_loc('score_d1aperta_sadness')\n",
        "# temp_pensioni.insert(score_d1aperta_sadness_loc+1, \"score_d1aperta_joy\", np.zeros(temp_pensioni.shape[0]))\n",
        "\n",
        "# score_d1aperta_joy_loc = temp_pensioni.columns.get_loc('score_d1aperta_joy')\n",
        "# temp_pensioni.insert(score_d1aperta_joy_loc+1, \"score_d1aperta_positive_sent\", np.zeros(temp_pensioni.shape[0]))"
      ],
      "metadata": {
        "id": "c7JPTodqtkY1"
      },
      "execution_count": null,
      "outputs": []
    },
    {
      "cell_type": "code",
      "source": [
        "d2ap_loc = temp_pensioni.columns.get_loc('d2ap')\n",
        "temp_pensioni.insert(d2ap_loc+1, \"label_d2_emotion\", np.zeros(temp_pensioni.shape[0]))\n",
        "\n",
        "label_d2ap_emotion_loc = temp_pensioni.columns.get_loc('label_d2_emotion')\n",
        "temp_pensioni.insert(label_d2ap_emotion_loc+1, \"score_d2_anger\", np.zeros(temp_pensioni.shape[0]))\n",
        "\n",
        "score_d2ap_anger_loc = temp_pensioni.columns.get_loc('score_d2_anger')\n",
        "temp_pensioni.insert(score_d2ap_anger_loc+1, \"score_d2_fear\", np.zeros(temp_pensioni.shape[0]))\n",
        "\n",
        "score_d2ap_fear_loc = temp_pensioni.columns.get_loc('score_d2_fear')\n",
        "temp_pensioni.insert(score_d2ap_fear_loc+1, \"score_d2_sadness\", np.zeros(temp_pensioni.shape[0]))\n",
        "\n",
        "score_d2ap_sadness_loc = temp_pensioni.columns.get_loc('score_d2_sadness')\n",
        "temp_pensioni.insert(score_d2ap_sadness_loc+1, \"score_d2_joy\", np.zeros(temp_pensioni.shape[0]))\n",
        "\n",
        "score_d2ap_joy_loc = temp_pensioni.columns.get_loc('score_d2_joy')\n",
        "temp_pensioni.insert(score_d2ap_joy_loc+1, \"score_d2_positive_sent\", np.zeros(temp_pensioni.shape[0]))"
      ],
      "metadata": {
        "id": "nIbZ4EjyuIUR"
      },
      "execution_count": null,
      "outputs": []
    },
    {
      "cell_type": "code",
      "source": [
        "# d2aperta_loc = temp_pensioni.columns.get_loc('d2aperta')\n",
        "# temp_pensioni.insert(d2aperta_loc+1, \"label_d2aperta_emotion\", np.zeros(temp_pensioni.shape[0]))\n",
        "\n",
        "# label_d2aperta_emotion_loc = temp_pensioni.columns.get_loc('label_d2aperta_emotion')\n",
        "# temp_pensioni.insert(label_d2aperta_emotion_loc+1, \"score_d2aperta_anger\", np.zeros(temp_pensioni.shape[0]))\n",
        "\n",
        "# score_d2aperta_anger_loc = temp_pensioni.columns.get_loc('score_d2aperta_anger')\n",
        "# temp_pensioni.insert(score_d2aperta_anger_loc+1, \"score_d2aperta_fear\", np.zeros(temp_pensioni.shape[0]))\n",
        "\n",
        "# score_d2aperta_fear_loc = temp_pensioni.columns.get_loc('score_d2aperta_fear')\n",
        "# temp_pensioni.insert(score_d2aperta_fear_loc+1, \"score_d2aperta_sadness\", np.zeros(temp_pensioni.shape[0]))\n",
        "\n",
        "# score_d2aperta_sadness_loc = temp_pensioni.columns.get_loc('score_d2aperta_sadness')\n",
        "# temp_pensioni.insert(score_d2aperta_sadness_loc+1, \"score_d2aperta_joy\", np.zeros(temp_pensioni.shape[0]))\n",
        "\n",
        "# score_d2aperta_joy_loc = temp_pensioni.columns.get_loc('score_d2aperta_joy')\n",
        "# temp_pensioni.insert(score_d2aperta_joy_loc+1, \"score_d2aperta_positive_sent\", np.zeros(temp_pensioni.shape[0]))"
      ],
      "metadata": {
        "id": "YggXY_dDuIUS"
      },
      "execution_count": null,
      "outputs": []
    },
    {
      "cell_type": "code",
      "source": [
        "d3ap_loc = temp_pensioni.columns.get_loc('d3ap')\n",
        "temp_pensioni.insert(d3ap_loc+1, \"label_d3_emotion\", np.zeros(temp_pensioni.shape[0]))\n",
        "\n",
        "label_d3ap_emotion_loc = temp_pensioni.columns.get_loc('label_d3_emotion')\n",
        "temp_pensioni.insert(label_d3ap_emotion_loc+1, \"score_d3_anger\", np.zeros(temp_pensioni.shape[0]))\n",
        "\n",
        "score_d3ap_anger_loc = temp_pensioni.columns.get_loc('score_d3_anger')\n",
        "temp_pensioni.insert(score_d3ap_anger_loc+1, \"score_d3_fear\", np.zeros(temp_pensioni.shape[0]))\n",
        "\n",
        "score_d3ap_fear_loc = temp_pensioni.columns.get_loc('score_d3_fear')\n",
        "temp_pensioni.insert(score_d3ap_fear_loc+1, \"score_d3_sadness\", np.zeros(temp_pensioni.shape[0]))\n",
        "\n",
        "score_d3ap_sadness_loc = temp_pensioni.columns.get_loc('score_d3_sadness')\n",
        "temp_pensioni.insert(score_d3ap_sadness_loc+1, \"score_d3_joy\", np.zeros(temp_pensioni.shape[0]))\n",
        "\n",
        "score_d3ap_joy_loc = temp_pensioni.columns.get_loc('score_d3_joy')\n",
        "temp_pensioni.insert(score_d3ap_joy_loc+1, \"score_d3_positive_sent\", np.zeros(temp_pensioni.shape[0]))"
      ],
      "metadata": {
        "id": "2IzjE1jsuh97"
      },
      "execution_count": null,
      "outputs": []
    },
    {
      "cell_type": "code",
      "source": [
        "# d3aperta_loc = temp_pensioni.columns.get_loc('d3aperta')\n",
        "# temp_pensioni.insert(d3aperta_loc+1, \"label_d3aperta_emotion\", np.zeros(temp_pensioni.shape[0]))\n",
        "\n",
        "# label_d3aperta_emotion_loc = temp_pensioni.columns.get_loc('label_d3aperta_emotion')\n",
        "# temp_pensioni.insert(label_d3aperta_emotion_loc+1, \"score_d3aperta_anger\", np.zeros(temp_pensioni.shape[0]))\n",
        "\n",
        "# score_d3aperta_anger_loc = temp_pensioni.columns.get_loc('score_d3aperta_anger')\n",
        "# temp_pensioni.insert(score_d3aperta_anger_loc+1, \"score_d3aperta_fear\", np.zeros(temp_pensioni.shape[0]))\n",
        "\n",
        "# score_d3aperta_fear_loc = temp_pensioni.columns.get_loc('score_d3aperta_fear')\n",
        "# temp_pensioni.insert(score_d3aperta_fear_loc+1, \"score_d3aperta_sadness\", np.zeros(temp_pensioni.shape[0]))\n",
        "\n",
        "# score_d3aperta_sadness_loc = temp_pensioni.columns.get_loc('score_d3aperta_sadness')\n",
        "# temp_pensioni.insert(score_d3aperta_sadness_loc+1, \"score_d3aperta_joy\", np.zeros(temp_pensioni.shape[0]))\n",
        "\n",
        "# score_d3aperta_joy_loc = temp_pensioni.columns.get_loc('score_d3aperta_joy')\n",
        "# temp_pensioni.insert(score_d3aperta_joy_loc+1, \"score_d3aperta_positive_sent\", np.zeros(temp_pensioni.shape[0]))"
      ],
      "metadata": {
        "id": "Ytr_cjetuh98"
      },
      "execution_count": null,
      "outputs": []
    },
    {
      "cell_type": "code",
      "source": [
        "temp_pensioni.columns"
      ],
      "metadata": {
        "colab": {
          "base_uri": "https://localhost:8080/"
        },
        "id": "4Sx6M1t8BrVH",
        "outputId": "7b06b21f-9f83-4723-bef4-d64334bf553a"
      },
      "execution_count": null,
      "outputs": [
        {
          "output_type": "execute_result",
          "data": {
            "text/plain": [
              "Index(['IDU', 'STARTTIME', 'ENDTIME', 'TOTALDURATION', 'p_sesso', 'p_r_eta',\n",
              "       'p_r_eta_6', 'generation', 'random', 'lega', 'p_comune_istat',\n",
              "       'p_geo_cap', 'p_r_ampiezza6', 'r_capoluogo', 'a_istat_reg',\n",
              "       'a_istat_prov', 'zona_5istat', 'p_occ_principale', 'p_prof',\n",
              "       'p_autocol', 'p_voto_pol22', 'p_int_voto', 'p_scolarita', 'scol2', 'd0',\n",
              "       'introaudio', 'data0', 'ora0', 'd1ap', 'label_d1_emotion',\n",
              "       'score_d1_anger', 'score_d1_fear', 'score_d1_sadness', 'score_d1_joy',\n",
              "       'score_d1_positive_sent', 'd1', 'd1aperta', 'd1recorder', 'd1rec',\n",
              "       'data1', 'ora1', 'd2ap', 'label_d2_emotion', 'score_d2_anger',\n",
              "       'score_d2_fear', 'score_d2_sadness', 'score_d2_joy',\n",
              "       'score_d2_positive_sent', 'd2', 'd2aperta', 'd2recorder', 'd2rec',\n",
              "       'data2', 'ora2', 'd3ap', 'label_d3_emotion', 'score_d3_anger',\n",
              "       'score_d3_fear', 'score_d3_sadness', 'score_d3_joy',\n",
              "       'score_d3_positive_sent', 'd3', 'd3aperta', 'd3recorder', 'd3rec',\n",
              "       'data3', 'ora3', 'etapensione', 'annicontributi', 'platform'],\n",
              "      dtype='object')"
            ]
          },
          "metadata": {},
          "execution_count": 41
        }
      ]
    },
    {
      "cell_type": "markdown",
      "source": [
        "##Transform to list"
      ],
      "metadata": {
        "id": "XGe08nEEwAYs"
      }
    },
    {
      "cell_type": "code",
      "source": [
        "temp_pensioni[\"label_d1_emotion\"] = temp_pensioni[\"label_d1_emotion\"].apply(lambda x: [x])\n",
        "temp_pensioni[\"label_d2_emotion\"] = temp_pensioni[\"label_d2_emotion\"].apply(lambda x: [x])\n",
        "temp_pensioni[\"label_d3_emotion\"] = temp_pensioni[\"label_d3_emotion\"].apply(lambda x: [x])\n",
        "\n",
        "temp_pensioni[\"score_d1_anger\"] = temp_pensioni[\"score_d1_anger\"].apply(lambda x: [x])\n",
        "temp_pensioni[\"score_d2_anger\"] = temp_pensioni[\"score_d2_anger\"].apply(lambda x: [x])\n",
        "temp_pensioni[\"score_d3_anger\"] = temp_pensioni[\"score_d3_anger\"].apply(lambda x: [x])\n",
        "\n",
        "temp_pensioni[\"score_d1_joy\"] = temp_pensioni[\"score_d1_joy\"].apply(lambda x: [x])\n",
        "temp_pensioni[\"score_d2_joy\"] = temp_pensioni[\"score_d2_joy\"].apply(lambda x: [x])\n",
        "temp_pensioni[\"score_d3_joy\"] = temp_pensioni[\"score_d3_joy\"].apply(lambda x: [x])\n",
        "\n",
        "temp_pensioni[\"score_d1_sadness\"] = temp_pensioni[\"score_d1_sadness\"].apply(lambda x: [x])\n",
        "temp_pensioni[\"score_d2_sadness\"] = temp_pensioni[\"score_d2_sadness\"].apply(lambda x: [x])\n",
        "temp_pensioni[\"score_d3_sadness\"] = temp_pensioni[\"score_d3_sadness\"].apply(lambda x: [x])\n",
        "\n",
        "temp_pensioni[\"score_d1_fear\"] = temp_pensioni[\"score_d1_fear\"].apply(lambda x: [x])\n",
        "temp_pensioni[\"score_d2_fear\"] = temp_pensioni[\"score_d2_fear\"].apply(lambda x: [x])\n",
        "temp_pensioni[\"score_d3_fear\"] = temp_pensioni[\"score_d3_fear\"].apply(lambda x: [x])\n",
        "\n",
        "temp_pensioni[\"score_d1_positive_sent\"] = temp_pensioni[\"score_d1_positive_sent\"].apply(lambda x: [x])\n",
        "temp_pensioni[\"score_d2_positive_sent\"] = temp_pensioni[\"score_d2_positive_sent\"].apply(lambda x: [x])\n",
        "temp_pensioni[\"score_d3_positive_sent\"] = temp_pensioni[\"score_d3_positive_sent\"].apply(lambda x: [x])"
      ],
      "metadata": {
        "id": "DDkJu2dBwB99"
      },
      "execution_count": null,
      "outputs": []
    },
    {
      "cell_type": "markdown",
      "source": [
        "#Classification"
      ],
      "metadata": {
        "id": "Vpx1nSYavEeb"
      }
    },
    {
      "cell_type": "code",
      "source": [
        "%%capture\n",
        "em_classifier = pipeline(\"text-classification\",model='MilaNLProc/feel-it-italian-emotion',top_k=4)\n",
        "sent_classifier = pipeline(\"text-classification\",model='MilaNLProc/feel-it-italian-sentiment',top_k=2)"
      ],
      "metadata": {
        "colab": {
          "base_uri": "https://localhost:8080/",
          "height": 53
        },
        "id": "BM1Hm0qivEL3",
        "outputId": "7493a39e-efd0-4271-aecb-cd440af17505"
      },
      "execution_count": null,
      "outputs": [
        {
          "output_type": "stream",
          "name": "stderr",
          "text": [
            "Xformers is not installed correctly. If you want to use memory_efficient_attention to accelerate training use the following command to install Xformers\n",
            "pip install xformers.\n"
          ]
        }
      ]
    },
    {
      "cell_type": "code",
      "source": [
        "pensioni_df.columns"
      ],
      "metadata": {
        "colab": {
          "base_uri": "https://localhost:8080/"
        },
        "id": "GqWa9lvV0pPm",
        "outputId": "e14f814b-caa4-4e0a-f205-21971a4f29a1"
      },
      "execution_count": null,
      "outputs": [
        {
          "output_type": "execute_result",
          "data": {
            "text/plain": [
              "Index(['IDU', 'STARTTIME', 'ENDTIME', 'TOTALDURATION', 'p_sesso', 'p_r_eta',\n",
              "       'p_r_eta_6', 'generation', 'random', 'lega', 'p_comune_istat',\n",
              "       'p_geo_cap', 'p_r_ampiezza6', 'r_capoluogo', 'a_istat_reg',\n",
              "       'a_istat_prov', 'zona_5istat', 'p_occ_principale', 'p_prof',\n",
              "       'p_autocol', 'p_voto_pol22', 'p_int_voto', 'p_scolarita', 'scol2', 'd0',\n",
              "       'introaudio', 'data0', 'ora0', 'd1ap', 'd1', 'd1aperta', 'd1recorder',\n",
              "       'd1rec', 'data1', 'ora1', 'd2ap', 'd2', 'd2aperta', 'd2recorder',\n",
              "       'd2rec', 'data2', 'ora2', 'd3ap', 'd3', 'd3aperta', 'd3recorder',\n",
              "       'd3rec', 'data3', 'ora3', 'etapensione', 'annicontributi', 'platform'],\n",
              "      dtype='object')"
            ]
          },
          "metadata": {},
          "execution_count": 44
        }
      ]
    },
    {
      "cell_type": "code",
      "source": [
        "audio_df.columns"
      ],
      "metadata": {
        "colab": {
          "base_uri": "https://localhost:8080/"
        },
        "id": "le-2nMNK6QAI",
        "outputId": "047edf92-707d-4309-84a1-da736ef8d70d"
      },
      "execution_count": null,
      "outputs": [
        {
          "output_type": "execute_result",
          "data": {
            "text/plain": [
              "Index(['IDU', 'd1rec_transcript', 'd1rec_significative',\n",
              "       'd1rec_significative_num', 'd2rec_transcript', 'd2rec_significative',\n",
              "       'd2rec_significative_num', 'd3rec_transcript', 'd3rec_significative',\n",
              "       'd3rec_significative_num'],\n",
              "      dtype='object')"
            ]
          },
          "metadata": {},
          "execution_count": 17
        }
      ]
    },
    {
      "cell_type": "markdown",
      "source": [
        "#lable_d1ap_emotion, lable_d2ap_emotion, lable_d3ap_emotion"
      ],
      "metadata": {
        "id": "VeW0bDMy62Cs"
      }
    },
    {
      "cell_type": "code",
      "source": [
        "for index, row in temp_pensioni.iterrows():\n",
        "  if not pd.isnull(pensioni_df.at[index, \"d1ap\"]):\n",
        "    temp_pensioni.at[index, \"label_d1_emotion\"] = em_classifier(pensioni_df.at[index, \"d1ap\"])[0][0][\"label\"] if isinstance(pensioni_df.at[index, \"d1ap\"], str) else float(\"nan\")\n",
        "  else:\n",
        "    if pensioni_df.at[index, \"random\"] == \"Domande con scelta del panelista tra aperte e registrazione audio\":\n",
        "      if pensioni_df.at[index, \"d1\"] == \"Preferisco scrivere\":\n",
        "        temp_pensioni.at[index, \"label_d1_emotion\"] = em_classifier(pensioni_df.at[index, \"d1aperta\"])[0][0][\"label\"] if isinstance(pensioni_df.at[index, \"d1aperta\"], str) else float(\"nan\")\n",
        "      elif pensioni_df.at[index, \"d1\"] == \"Desidero rispondere registrando un audio\":\n",
        "        idu = pensioni_df.at[index, \"IDU\"]\n",
        "        row_with_idu = choseaudio_df[choseaudio_df['IDU'] == idu]\n",
        "        if not row_with_idu.empty:\n",
        "          transcript = row_with_idu['d1rec_transcript'].values[0]\n",
        "          temp_pensioni.at[index, \"label_d1_emotion\"] = em_classifier(transcript)[0][0][\"label\"] if isinstance(transcript, str) else float(\"nan\")\n",
        "        elif row_with_idu.empty:\n",
        "          print('No row with IDU =', idu)\n",
        "          temp_pensioni.at[index, \"label_d1_emotion\"] = float(\"nan\")\n",
        "    elif pensioni_df.at[index, \"random\"] == \"Domande con registrazione audio\":\n",
        "      idu = pensioni_df.at[index, \"IDU\"]\n",
        "      row_with_idu = audio_df[audio_df['IDU'] == idu]\n",
        "      if not row_with_idu.empty:\n",
        "        transcript = row_with_idu['d1rec_transcript'].values[0]\n",
        "        temp_pensioni.at[index, \"label_d1_emotion\"] = em_classifier(transcript)[0][0][\"label\"] if isinstance(transcript, str) else float(\"nan\")\n",
        "      elif row_with_idu.empty:\n",
        "        print('No row with IDU =', idu)\n",
        "        temp_pensioni.at[index, \"label_d1_emotion\"] = float(\"nan\")\n",
        "  if index % 50 == 0:\n",
        "    print(f\"Took care of {index} lines out of {temp_pensioni.shape[0]}\")"
      ],
      "metadata": {
        "id": "0AUMWP44xYHf"
      },
      "execution_count": null,
      "outputs": []
    },
    {
      "cell_type": "code",
      "source": [
        "for index, row in temp_pensioni.iterrows():\n",
        "  if not pd.isnull(pensioni_df.at[index, \"d2ap\"]):\n",
        "    temp_pensioni.at[index, \"label_d2_emotion\"] = em_classifier(pensioni_df.at[index, \"d2ap\"])[0][0][\"label\"] if isinstance(pensioni_df.at[index, \"d2ap\"], str) else float(\"nan\")\n",
        "  else:\n",
        "    if pensioni_df.at[index, \"random\"] == \"Domande con scelta del panelista tra aperte e registrazione audio\":\n",
        "      if pensioni_df.at[index, \"d2\"] == \"Preferisco scrivere\":\n",
        "        temp_pensioni.at[index, \"label_d2_emotion\"] = em_classifier(pensioni_df.at[index, \"d2aperta\"])[0][0][\"label\"] if isinstance(pensioni_df.at[index, \"d2aperta\"], str) else float(\"nan\")\n",
        "      elif pensioni_df.at[index, \"d2\"] == \"Desidero rispondere registrando un audio\":\n",
        "        idu = pensioni_df.at[index, \"IDU\"]\n",
        "        row_with_idu = choseaudio_df[choseaudio_df['IDU'] == idu]\n",
        "        if not row_with_idu.empty:\n",
        "          transcript = row_with_idu['d2rec_transcript'].values[0]\n",
        "          temp_pensioni.at[index, \"label_d2_emotion\"] = em_classifier(transcript)[0][0][\"label\"] if isinstance(transcript, str) else float(\"nan\")\n",
        "        elif row_with_idu.empty:\n",
        "          print('No row with IDU =', idu)\n",
        "          temp_pensioni.at[index, \"label_d2_emotion\"] = float(\"nan\")\n",
        "    elif pensioni_df.at[index, \"random\"] == \"Domande con registrazione audio\":\n",
        "      idu = pensioni_df.at[index, \"IDU\"]\n",
        "      row_with_idu = audio_df[audio_df['IDU'] == idu]\n",
        "      if not row_with_idu.empty:\n",
        "        transcript = row_with_idu['d2rec_transcript'].values[0]\n",
        "        temp_pensioni.at[index, \"label_d2_emotion\"] = em_classifier(transcript)[0][0][\"label\"] if isinstance(transcript, str) else float(\"nan\")\n",
        "      elif row_with_idu.empty:\n",
        "        print('No row with IDU =', idu)\n",
        "        temp_pensioni.at[index, \"label_d2_emotion\"] = float(\"nan\")\n",
        "  if index % 50 == 0:\n",
        "    print(f\"Took care of {index} lines out of {temp_pensioni.shape[0]}\")"
      ],
      "metadata": {
        "id": "97SSUUX_9J-f"
      },
      "execution_count": null,
      "outputs": []
    },
    {
      "cell_type": "code",
      "source": [
        "for index, row in temp_pensioni.iterrows():\n",
        "  if not pd.isnull(pensioni_df.at[index, \"d3ap\"]):\n",
        "    temp_pensioni.at[index, \"label_d3_emotion\"] = em_classifier(pensioni_df.at[index, \"d3ap\"])[0][0][\"label\"] if isinstance(pensioni_df.at[index, \"d3ap\"], str) else float(\"nan\")\n",
        "  else:\n",
        "    if pensioni_df.at[index, \"random\"] == \"Domande con scelta del panelista tra aperte e registrazione audio\":\n",
        "      if pensioni_df.at[index, \"d3\"] == \"Preferisco scrivere\":\n",
        "        temp_pensioni.at[index, \"label_d3_emotion\"] = em_classifier(pensioni_df.at[index, \"d3aperta\"])[0][0][\"label\"] if isinstance(pensioni_df.at[index, \"d3aperta\"], str) else float(\"nan\")\n",
        "      elif pensioni_df.at[index, \"d3\"] == \"Desidero rispondere registrando un audio\":\n",
        "        idu = pensioni_df.at[index, \"IDU\"]\n",
        "        row_with_idu = choseaudio_df[choseaudio_df['IDU'] == idu]\n",
        "        if not row_with_idu.empty:\n",
        "          transcript = row_with_idu['d3rec_transcript'].values[0]\n",
        "          temp_pensioni.at[index, \"label_d3_emotion\"] = em_classifier(transcript)[0][0][\"label\"] if isinstance(transcript, str) else float(\"nan\")\n",
        "        elif row_with_idu.empty:\n",
        "          print('No row with IDU =', idu)\n",
        "          temp_pensioni.at[index, \"label_d3_emotion\"] = float(\"nan\")\n",
        "    elif pensioni_df.at[index, \"random\"] == \"Domande con registrazione audio\":\n",
        "      idu = pensioni_df.at[index, \"IDU\"]\n",
        "      row_with_idu = audio_df[audio_df['IDU'] == idu]\n",
        "      if not row_with_idu.empty:\n",
        "        transcript = row_with_idu['d3rec_transcript'].values[0]\n",
        "        temp_pensioni.at[index, \"label_d3_emotion\"] = em_classifier(transcript)[0][0][\"label\"] if isinstance(transcript, str) else float(\"nan\")\n",
        "      elif row_with_idu.empty:\n",
        "        print('No row with IDU =', idu)\n",
        "        temp_pensioni.at[index, \"label_d3_emotion\"] = float(\"nan\")\n",
        "  if index % 50 == 0:\n",
        "    print(f\"Took care of {index} lines out of {temp_pensioni.shape[0]}\")"
      ],
      "metadata": {
        "id": "5kx2xII69Xlu"
      },
      "execution_count": null,
      "outputs": []
    },
    {
      "cell_type": "code",
      "source": [
        "temp_pensioni[\"label_d1_emotion\"].to_list()[-5]"
      ],
      "metadata": {
        "id": "SEUO7Jbf732X"
      },
      "execution_count": null,
      "outputs": []
    },
    {
      "cell_type": "code",
      "source": [
        "temp_pensioni[\"label_d2_emotion\"].to_list()"
      ],
      "metadata": {
        "id": "juBAmYbF69Tm"
      },
      "execution_count": null,
      "outputs": []
    },
    {
      "cell_type": "code",
      "source": [
        "temp_pensioni[\"label_d3_emotion\"].to_list()"
      ],
      "metadata": {
        "id": "UKnzlVbB1zQu"
      },
      "execution_count": null,
      "outputs": []
    },
    {
      "cell_type": "markdown",
      "source": [
        "# Emotion Scores"
      ],
      "metadata": {
        "id": "izEWF5Xs_egH"
      }
    },
    {
      "cell_type": "code",
      "source": [
        "for index, row in temp_pensioni.iterrows():\n",
        "  if isinstance(pensioni_df.at[index, \"d1ap\"], str):\n",
        "    for d in em_classifier(pensioni_df.at[index, \"d1ap\"])[0]:\n",
        "      if d[\"label\"] == \"anger\":\n",
        "        anger_score = d[\"score\"]\n",
        "      if d[\"label\"] == \"joy\":\n",
        "        joy_score = d[\"score\"]\n",
        "      if d[\"label\"] == \"fear\":\n",
        "        fear_score = d[\"score\"]\n",
        "      elif d[\"label\"] == \"sadness\":\n",
        "        sadness_score = d[\"score\"]\n",
        "    temp_pensioni.at[index, \"score_d1_anger\"] = anger_score\n",
        "    temp_pensioni.at[index, \"score_d1_joy\"] = joy_score\n",
        "    temp_pensioni.at[index, \"score_d1_fear\"] = fear_score\n",
        "    temp_pensioni.at[index, \"score_d1_sadness\"] = sadness_score\n",
        "  elif pd.isnull(pensioni_df.at[index, \"d1ap\"]):\n",
        "    if pensioni_df.at[index, \"random\"] == \"Domande con scelta del panelista tra aperte e registrazione audio\":\n",
        "      if pensioni_df.at[index, \"d1\"] == \"Preferisco scrivere\":\n",
        "        if isinstance(pensioni_df.at[index, \"d1aperta\"], str):\n",
        "          for d in em_classifier(pensioni_df.at[index, \"d1aperta\"])[0]:\n",
        "            if d[\"label\"] == \"anger\":\n",
        "              anger_score = d[\"score\"]\n",
        "            if d[\"label\"] == \"joy\":\n",
        "              joy_score = d[\"score\"]\n",
        "            if d[\"label\"] == \"fear\":\n",
        "              fear_score = d[\"score\"]\n",
        "            elif d[\"label\"] == \"sadness\":\n",
        "              sadness_score = d[\"score\"]\n",
        "          temp_pensioni.at[index, \"score_d1_anger\"] = anger_score\n",
        "          temp_pensioni.at[index, \"score_d1_joy\"] = joy_score\n",
        "          temp_pensioni.at[index, \"score_d1_fear\"] = fear_score\n",
        "          temp_pensioni.at[index, \"score_d1_sadness\"] = sadness_score\n",
        "      elif pensioni_df.at[index, \"d1\"] == \"Desidero rispondere registrando un audio\":\n",
        "        idu = pensioni_df.at[index, \"IDU\"]\n",
        "        row_with_idu = choseaudio_df[choseaudio_df['IDU'] == idu]\n",
        "        if not row_with_idu.empty:\n",
        "          transcript = row_with_idu['d1rec_transcript'].values[0]\n",
        "          if isinstance(transcript, str):\n",
        "            for d in em_classifier(transcript)[0]:\n",
        "              if d[\"label\"] == \"anger\":\n",
        "                anger_score = d[\"score\"]\n",
        "              if d[\"label\"] == \"joy\":\n",
        "                joy_score = d[\"score\"]\n",
        "              if d[\"label\"] == \"fear\":\n",
        "                fear_score = d[\"score\"]\n",
        "              elif d[\"label\"] == \"sadness\":\n",
        "                sadness_score = d[\"score\"]\n",
        "            temp_pensioni.at[index, \"score_d1_anger\"] = anger_score\n",
        "            temp_pensioni.at[index, \"score_d1_joy\"] = joy_score\n",
        "            temp_pensioni.at[index, \"score_d1_fear\"] = fear_score\n",
        "            temp_pensioni.at[index, \"score_d1_sadness\"] = sadness_score\n",
        "          elif row_with_idu.empty or not isinstance(transcript, str):\n",
        "            if row_with_idu.empty: print(f'No row with IDU = {idu}')\n",
        "            temp_pensioni.at[index, \"score_d1_anger\"] = float(\"nan\")\n",
        "            temp_pensioni.at[index, \"score_d1_joy\"] = float(\"nan\")\n",
        "            temp_pensioni.at[index, \"score_d1_fear\"] = float(\"nan\")\n",
        "            temp_pensioni.at[index, \"score_d1_sadness\"] = float(\"nan\")\n",
        "    elif pensioni_df.at[index, \"random\"] == \"Domande con registrazione audio\":\n",
        "      idu = pensioni_df.at[index, \"IDU\"]\n",
        "      row_with_idu = audio_df[audio_df['IDU'] == idu]\n",
        "      if not row_with_idu.empty:\n",
        "        transcript = row_with_idu['d1rec_transcript'].values[0]\n",
        "        if isinstance(transcript, str):\n",
        "            for d in em_classifier(transcript)[0]:\n",
        "              if d[\"label\"] == \"anger\":\n",
        "                anger_score = d[\"score\"]\n",
        "              if d[\"label\"] == \"joy\":\n",
        "                joy_score = d[\"score\"]\n",
        "              if d[\"label\"] == \"fear\":\n",
        "                fear_score = d[\"score\"]\n",
        "              elif d[\"label\"] == \"sadness\":\n",
        "                sadness_score = d[\"score\"]\n",
        "            temp_pensioni.at[index, \"score_d1_anger\"] = anger_score\n",
        "            temp_pensioni.at[index, \"score_d1_joy\"] = joy_score\n",
        "            temp_pensioni.at[index, \"score_d1_fear\"] = fear_score\n",
        "            temp_pensioni.at[index, \"score_d1_sadness\"] = sadness_score\n",
        "        elif row_with_idu.empty or not isinstance(transcript, str):\n",
        "            if row_with_idu.empty: print(f'No row with IDU = {idu}')\n",
        "            temp_pensioni.at[index, \"score_d1_anger\"] = float(\"nan\")\n",
        "            temp_pensioni.at[index, \"score_d1_joy\"] = float(\"nan\")\n",
        "            temp_pensioni.at[index, \"score_d1_fear\"] = float(\"nan\")\n",
        "            temp_pensioni.at[index, \"score_d1_sadness\"] = float(\"nan\")\n",
        "  if index % 50 == 0:\n",
        "    print(f\"Took care of {index} lines out of {temp_pensioni.shape[0]}\")"
      ],
      "metadata": {
        "id": "-saA44Gl6Zzs"
      },
      "execution_count": null,
      "outputs": []
    },
    {
      "cell_type": "code",
      "source": [
        "for index, row in temp_pensioni.iterrows():\n",
        "  if isinstance(pensioni_df.at[index, \"d2ap\"], str):\n",
        "    for d in em_classifier(pensioni_df.at[index, \"d2ap\"])[0]:\n",
        "      if d[\"label\"] == \"anger\":\n",
        "        anger_score = d[\"score\"]\n",
        "      if d[\"label\"] == \"joy\":\n",
        "        joy_score = d[\"score\"]\n",
        "      if d[\"label\"] == \"fear\":\n",
        "        fear_score = d[\"score\"]\n",
        "      elif d[\"label\"] == \"sadness\":\n",
        "        sadness_score = d[\"score\"]\n",
        "    temp_pensioni.at[index, \"score_d2_anger\"] = anger_score\n",
        "    temp_pensioni.at[index, \"score_d2_joy\"] = joy_score\n",
        "    temp_pensioni.at[index, \"score_d2_fear\"] = fear_score\n",
        "    temp_pensioni.at[index, \"score_d2_sadness\"] = sadness_score\n",
        "  elif pd.isnull(pensioni_df.at[index, \"d2ap\"]):\n",
        "    if pensioni_df.at[index, \"random\"] == \"Domande con scelta del panelista tra aperte e registrazione audio\":\n",
        "      if pensioni_df.at[index, \"d2\"] == \"Preferisco scrivere\":\n",
        "        if isinstance(pensioni_df.at[index, \"d2aperta\"], str):\n",
        "          for d in em_classifier(pensioni_df.at[index, \"d2aperta\"])[0]:\n",
        "            if d[\"label\"] == \"anger\":\n",
        "              anger_score = d[\"score\"]\n",
        "            if d[\"label\"] == \"joy\":\n",
        "              joy_score = d[\"score\"]\n",
        "            if d[\"label\"] == \"fear\":\n",
        "              fear_score = d[\"score\"]\n",
        "            elif d[\"label\"] == \"sadness\":\n",
        "              sadness_score = d[\"score\"]\n",
        "          temp_pensioni.at[index, \"score_d2_anger\"] = anger_score\n",
        "          temp_pensioni.at[index, \"score_d2_joy\"] = joy_score\n",
        "          temp_pensioni.at[index, \"score_d2_fear\"] = fear_score\n",
        "          temp_pensioni.at[index, \"score_d2_sadness\"] = sadness_score\n",
        "      elif pensioni_df.at[index, \"d2\"] == \"Desidero rispondere registrando un audio\":\n",
        "        idu = pensioni_df.at[index, \"IDU\"]\n",
        "        row_with_idu = choseaudio_df[choseaudio_df['IDU'] == idu]\n",
        "        if not row_with_idu.empty:\n",
        "          transcript = row_with_idu['d2rec_transcript'].values[0]\n",
        "          if isinstance(transcript, str):\n",
        "            for d in em_classifier(transcript)[0]:\n",
        "              if d[\"label\"] == \"anger\":\n",
        "                anger_score = d[\"score\"]\n",
        "              if d[\"label\"] == \"joy\":\n",
        "                joy_score = d[\"score\"]\n",
        "              if d[\"label\"] == \"fear\":\n",
        "                fear_score = d[\"score\"]\n",
        "              elif d[\"label\"] == \"sadness\":\n",
        "                sadness_score = d[\"score\"]\n",
        "            temp_pensioni.at[index, \"score_d2_anger\"] = anger_score\n",
        "            temp_pensioni.at[index, \"score_d2_joy\"] = joy_score\n",
        "            temp_pensioni.at[index, \"score_d2_fear\"] = fear_score\n",
        "            temp_pensioni.at[index, \"score_d2_sadness\"] = sadness_score\n",
        "          elif row_with_idu.empty or not isinstance(transcript, str):\n",
        "            if row_with_idu.empty: print(f'No row with IDU = {idu}')\n",
        "            temp_pensioni.at[index, \"score_d2_anger\"] = float(\"nan\")\n",
        "            temp_pensioni.at[index, \"score_d2_joy\"] = float(\"nan\")\n",
        "            temp_pensioni.at[index, \"score_d2_fear\"] = float(\"nan\")\n",
        "            temp_pensioni.at[index, \"score_d2_sadness\"] = float(\"nan\")\n",
        "    elif pensioni_df.at[index, \"random\"] == \"Domande con registrazione audio\":\n",
        "      idu = pensioni_df.at[index, \"IDU\"]\n",
        "      row_with_idu = audio_df[audio_df['IDU'] == idu]\n",
        "      if not row_with_idu.empty:\n",
        "        transcript = row_with_idu['d2rec_transcript'].values[0]\n",
        "        if isinstance(transcript, str):\n",
        "            for d in em_classifier(transcript)[0]:\n",
        "              if d[\"label\"] == \"anger\":\n",
        "                anger_score = d[\"score\"]\n",
        "              if d[\"label\"] == \"joy\":\n",
        "                joy_score = d[\"score\"]\n",
        "              if d[\"label\"] == \"fear\":\n",
        "                fear_score = d[\"score\"]\n",
        "              elif d[\"label\"] == \"sadness\":\n",
        "                sadness_score = d[\"score\"]\n",
        "            temp_pensioni.at[index, \"score_d2_anger\"] = anger_score\n",
        "            temp_pensioni.at[index, \"score_d2_joy\"] = joy_score\n",
        "            temp_pensioni.at[index, \"score_d2_fear\"] = fear_score\n",
        "            temp_pensioni.at[index, \"score_d2_sadness\"] = sadness_score\n",
        "        elif row_with_idu.empty or not isinstance(transcript, str):\n",
        "            if row_with_idu.empty: print(f'No row with IDU = {idu}')\n",
        "            temp_pensioni.at[index, \"score_d2_anger\"] = float(\"nan\")\n",
        "            temp_pensioni.at[index, \"score_d2_joy\"] = float(\"nan\")\n",
        "            temp_pensioni.at[index, \"score_d2_fear\"] = float(\"nan\")\n",
        "            temp_pensioni.at[index, \"score_d2_sadness\"] = float(\"nan\")\n",
        "  if index % 50 == 0:\n",
        "    print(f\"Took care of {index} lines out of {temp_pensioni.shape[0]}\")"
      ],
      "metadata": {
        "id": "dF3X7N1aI6ZT"
      },
      "execution_count": null,
      "outputs": []
    },
    {
      "cell_type": "code",
      "source": [
        "for index, row in temp_pensioni.iterrows():\n",
        "  if isinstance(pensioni_df.at[index, \"d3ap\"], str):\n",
        "    for d in em_classifier(pensioni_df.at[index, \"d3ap\"])[0]:\n",
        "      if d[\"label\"] == \"anger\":\n",
        "        anger_score = d[\"score\"]\n",
        "      if d[\"label\"] == \"joy\":\n",
        "        joy_score = d[\"score\"]\n",
        "      if d[\"label\"] == \"fear\":\n",
        "        fear_score = d[\"score\"]\n",
        "      elif d[\"label\"] == \"sadness\":\n",
        "        sadness_score = d[\"score\"]\n",
        "    temp_pensioni.at[index, \"score_d3_anger\"] = anger_score\n",
        "    temp_pensioni.at[index, \"score_d3_joy\"] = joy_score\n",
        "    temp_pensioni.at[index, \"score_d3_fear\"] = fear_score\n",
        "    temp_pensioni.at[index, \"score_d3_sadness\"] = sadness_score\n",
        "  elif pd.isnull(pensioni_df.at[index, \"d3ap\"]):\n",
        "    if pensioni_df.at[index, \"random\"] == \"Domande con scelta del panelista tra aperte e registrazione audio\":\n",
        "      if pensioni_df.at[index, \"d3\"] == \"Preferisco scrivere\":\n",
        "        if isinstance(pensioni_df.at[index, \"d3aperta\"], str):\n",
        "          for d in em_classifier(pensioni_df.at[index, \"d3aperta\"])[0]:\n",
        "            if d[\"label\"] == \"anger\":\n",
        "              anger_score = d[\"score\"]\n",
        "            if d[\"label\"] == \"joy\":\n",
        "              joy_score = d[\"score\"]\n",
        "            if d[\"label\"] == \"fear\":\n",
        "              fear_score = d[\"score\"]\n",
        "            elif d[\"label\"] == \"sadness\":\n",
        "              sadness_score = d[\"score\"]\n",
        "          temp_pensioni.at[index, \"score_d3_anger\"] = anger_score\n",
        "          temp_pensioni.at[index, \"score_d3_joy\"] = joy_score\n",
        "          temp_pensioni.at[index, \"score_d3_fear\"] = fear_score\n",
        "          temp_pensioni.at[index, \"score_d3_sadness\"] = sadness_score\n",
        "      elif pensioni_df.at[index, \"d3\"] == \"Desidero rispondere registrando un audio\":\n",
        "        idu = pensioni_df.at[index, \"IDU\"]\n",
        "        row_with_idu = choseaudio_df[choseaudio_df['IDU'] == idu]\n",
        "        if not row_with_idu.empty:\n",
        "          transcript = row_with_idu['d3rec_transcript'].values[0]\n",
        "          if isinstance(transcript, str):\n",
        "            for d in em_classifier(transcript)[0]:\n",
        "              if d[\"label\"] == \"anger\":\n",
        "                anger_score = d[\"score\"]\n",
        "              if d[\"label\"] == \"joy\":\n",
        "                joy_score = d[\"score\"]\n",
        "              if d[\"label\"] == \"fear\":\n",
        "                fear_score = d[\"score\"]\n",
        "              elif d[\"label\"] == \"sadness\":\n",
        "                sadness_score = d[\"score\"]\n",
        "            temp_pensioni.at[index, \"score_d3_anger\"] = anger_score\n",
        "            temp_pensioni.at[index, \"score_d3_joy\"] = joy_score\n",
        "            temp_pensioni.at[index, \"score_d3_fear\"] = fear_score\n",
        "            temp_pensioni.at[index, \"score_d3_sadness\"] = sadness_score\n",
        "          elif row_with_idu.empty or not isinstance(transcript, str):\n",
        "            if row_with_idu.empty: print(f'No row with IDU = {idu}')\n",
        "            temp_pensioni.at[index, \"score_d3_anger\"] = float(\"nan\")\n",
        "            temp_pensioni.at[index, \"score_d3_joy\"] = float(\"nan\")\n",
        "            temp_pensioni.at[index, \"score_d3_fear\"] = float(\"nan\")\n",
        "            temp_pensioni.at[index, \"score_d3_sadness\"] = float(\"nan\")\n",
        "    elif pensioni_df.at[index, \"random\"] == \"Domande con registrazione audio\":\n",
        "      idu = pensioni_df.at[index, \"IDU\"]\n",
        "      row_with_idu = audio_df[audio_df['IDU'] == idu]\n",
        "      if not row_with_idu.empty:\n",
        "        transcript = row_with_idu['d3rec_transcript'].values[0]\n",
        "        if isinstance(transcript, str):\n",
        "            for d in em_classifier(transcript)[0]:\n",
        "              if d[\"label\"] == \"anger\":\n",
        "                anger_score = d[\"score\"]\n",
        "              if d[\"label\"] == \"joy\":\n",
        "                joy_score = d[\"score\"]\n",
        "              if d[\"label\"] == \"fear\":\n",
        "                fear_score = d[\"score\"]\n",
        "              elif d[\"label\"] == \"sadness\":\n",
        "                sadness_score = d[\"score\"]\n",
        "            temp_pensioni.at[index, \"score_d3_anger\"] = anger_score\n",
        "            temp_pensioni.at[index, \"score_d3_joy\"] = joy_score\n",
        "            temp_pensioni.at[index, \"score_d3_fear\"] = fear_score\n",
        "            temp_pensioni.at[index, \"score_d3_sadness\"] = sadness_score\n",
        "        elif row_with_idu.empty or not isinstance(transcript, str):\n",
        "            if row_with_idu.empty: print(f'No row with IDU = {idu}')\n",
        "            temp_pensioni.at[index, \"score_d3_anger\"] = float(\"nan\")\n",
        "            temp_pensioni.at[index, \"score_d3_joy\"] = float(\"nan\")\n",
        "            temp_pensioni.at[index, \"score_d3_fear\"] = float(\"nan\")\n",
        "            temp_pensioni.at[index, \"score_d3_sadness\"] = float(\"nan\")\n",
        "  if index % 50 == 0:\n",
        "    print(f\"Took care of {index} lines out of {temp_pensioni.shape[0]}\")"
      ],
      "metadata": {
        "id": "hkMyyDv-JRZk"
      },
      "execution_count": null,
      "outputs": []
    },
    {
      "cell_type": "markdown",
      "source": [
        "# score_d1,2,3_positive_sent"
      ],
      "metadata": {
        "id": "qw8sWv2-LmTP"
      }
    },
    {
      "cell_type": "code",
      "source": [
        "sent_classifier(\"ciao\")"
      ],
      "metadata": {
        "colab": {
          "base_uri": "https://localhost:8080/"
        },
        "id": "sDb4l9ksMj2o",
        "outputId": "7451567d-31f6-44a1-f058-ba2bfe5c7b4d"
      },
      "execution_count": null,
      "outputs": [
        {
          "output_type": "execute_result",
          "data": {
            "text/plain": [
              "[[{'label': 'negative', 'score': 0.9992262125015259},\n",
              "  {'label': 'positive', 'score': 0.0007737715495750308}]]"
            ]
          },
          "metadata": {},
          "execution_count": 79
        }
      ]
    },
    {
      "cell_type": "code",
      "source": [
        "for index, row in temp_pensioni.iterrows():\n",
        "  if isinstance(pensioni_df.at[index, \"d1ap\"], str):\n",
        "    for d in sent_classifier(pensioni_df.at[index, \"d1ap\"])[0]:\n",
        "      if d[\"label\"] == \"positive\":\n",
        "        positive_score = d[\"score\"]\n",
        "    temp_pensioni.at[index, \"score_d1_positive_sent\"] = positive_score\n",
        "  elif pd.isnull(pensioni_df.at[index, \"d1ap\"]):\n",
        "    if pensioni_df.at[index, \"random\"] == \"Domande con scelta del panelista tra aperte e registrazione audio\":\n",
        "      if pensioni_df.at[index, \"d1\"] == \"Preferisco scrivere\":\n",
        "        if isinstance(pensioni_df.at[index, \"d1aperta\"], str):\n",
        "          for d in sent_classifier(pensioni_df.at[index, \"d1aperta\"])[0]:\n",
        "            if d[\"label\"] == \"positive\":\n",
        "              positive_score = d[\"score\"]\n",
        "          temp_pensioni.at[index, \"score_d1_positive_sent\"] = positive_score\n",
        "      elif pensioni_df.at[index, \"d1\"] == \"Desidero rispondere registrando un audio\":\n",
        "        idu = pensioni_df.at[index, \"IDU\"]\n",
        "        row_with_idu = choseaudio_df[choseaudio_df['IDU'] == idu]\n",
        "        if not row_with_idu.empty:\n",
        "          transcript = row_with_idu['d1rec_transcript'].values[0]\n",
        "          if isinstance(transcript, str):\n",
        "              for d in sent_classifier(transcript)[0]:\n",
        "                if d[\"label\"] == \"positive\":\n",
        "                  positive_score = d[\"score\"]\n",
        "              temp_pensioni.at[index, \"score_d1_positive_sent\"] = positive_score\n",
        "          elif not isinstance(transcript, str) or row_with_idu.empty:\n",
        "            if row_with_idu.empty:\n",
        "              print(f'No row with IDU = {idu}')\n",
        "            temp_pensioni.at[index, \"score_d1_positive_sent\"] = float(\"nan\")\n",
        "    elif pensioni_df.at[index, \"random\"] == \"Domande con registrazione audio\":\n",
        "      idu = pensioni_df.at[index, \"IDU\"]\n",
        "      row_with_idu = audio_df[audio_df['IDU'] == idu]\n",
        "      if not row_with_idu.empty:\n",
        "        transcript = row_with_idu['d1rec_transcript'].values[0]\n",
        "        if isinstance(transcript, str):\n",
        "            for d in sent_classifier(transcript)[0]:\n",
        "              if d[\"label\"] == \"positive\":\n",
        "                positive_score = d[\"score\"]\n",
        "            temp_pensioni.at[index, \"score_d1_positive_sent\"] = positive_score\n",
        "        elif not isinstance(transcript, str) or row_with_idu.empty:\n",
        "          if row_with_idu.empty:\n",
        "            print(f'No row with IDU = {idu}')\n",
        "          temp_pensioni.at[index, \"score_d1_positive_sent\"] = float(\"nan\")\n",
        "  if index % 50 == 0:\n",
        "    print(f\"Took care of {index} lines out of {temp_pensioni.shape[0]}\")"
      ],
      "metadata": {
        "id": "pRYFTh2ILuh8"
      },
      "execution_count": null,
      "outputs": []
    },
    {
      "cell_type": "code",
      "source": [
        "for index, row in temp_pensioni.iterrows():\n",
        "  if isinstance(pensioni_df.at[index, \"d2ap\"], str):\n",
        "    for d in sent_classifier(pensioni_df.at[index, \"d2ap\"])[0]:\n",
        "      if d[\"label\"] == \"positive\":\n",
        "        positive_score = d[\"score\"]\n",
        "    temp_pensioni.at[index, \"score_d2_positive_sent\"] = positive_score\n",
        "  elif pd.isnull(pensioni_df.at[index, \"d2ap\"]):\n",
        "    if pensioni_df.at[index, \"random\"] == \"Domande con scelta del panelista tra aperte e registrazione audio\":\n",
        "      if pensioni_df.at[index, \"d2\"] == \"Preferisco scrivere\":\n",
        "        if isinstance(pensioni_df.at[index, \"d2aperta\"], str):\n",
        "          for d in sent_classifier(pensioni_df.at[index, \"d2aperta\"])[0]:\n",
        "            if d[\"label\"] == \"positive\":\n",
        "              positive_score = d[\"score\"]\n",
        "          temp_pensioni.at[index, \"score_d2_positive_sent\"] = positive_score\n",
        "      elif pensioni_df.at[index, \"d2\"] == \"Desidero rispondere registrando un audio\":\n",
        "        idu = pensioni_df.at[index, \"IDU\"]\n",
        "        row_with_idu = choseaudio_df[choseaudio_df['IDU'] == idu]\n",
        "        if not row_with_idu.empty:\n",
        "          transcript = row_with_idu['d2rec_transcript'].values[0]\n",
        "          if isinstance(transcript, str):\n",
        "              for d in sent_classifier(transcript)[0]:\n",
        "                if d[\"label\"] == \"positive\":\n",
        "                  positive_score = d[\"score\"]\n",
        "              temp_pensioni.at[index, \"score_d2_positive_sent\"] = positive_score\n",
        "          elif not isinstance(transcript, str) or row_with_idu.empty:\n",
        "            if row_with_idu.empty:\n",
        "              print(f'No row with IDU = {idu}')\n",
        "            temp_pensioni.at[index, \"score_d2_positive_sent\"] = float(\"nan\")\n",
        "    elif pensioni_df.at[index, \"random\"] == \"Domande con registrazione audio\":\n",
        "      idu = pensioni_df.at[index, \"IDU\"]\n",
        "      row_with_idu = audio_df[audio_df['IDU'] == idu]\n",
        "      if not row_with_idu.empty:\n",
        "        transcript = row_with_idu['d2rec_transcript'].values[0]\n",
        "        if isinstance(transcript, str):\n",
        "            for d in sent_classifier(transcript)[0]:\n",
        "              if d[\"label\"] == \"positive\":\n",
        "                positive_score = d[\"score\"]\n",
        "            temp_pensioni.at[index, \"score_d2_positive_sent\"] = positive_score\n",
        "        elif not isinstance(transcript, str) or row_with_idu.empty:\n",
        "          if row_with_idu.empty:\n",
        "            print(f'No row with IDU = {idu}')\n",
        "          temp_pensioni.at[index, \"score_d2_positive_sent\"] = float(\"nan\")\n",
        "  if index % 50 == 0:\n",
        "    print(f\"Took care of {index} lines out of {temp_pensioni.shape[0]}\")"
      ],
      "metadata": {
        "colab": {
          "base_uri": "https://localhost:8080/"
        },
        "id": "qhlwQT00SdPw",
        "outputId": "30209e7a-7090-47d4-fecd-f568e9f5712c"
      },
      "execution_count": null,
      "outputs": [
        {
          "output_type": "stream",
          "name": "stdout",
          "text": [
            "Took care of 0 lines out of 1235\n",
            "Took care of 50 lines out of 1235\n",
            "Took care of 100 lines out of 1235\n",
            "Took care of 150 lines out of 1235\n",
            "Took care of 200 lines out of 1235\n",
            "Took care of 250 lines out of 1235\n",
            "Took care of 300 lines out of 1235\n",
            "Took care of 350 lines out of 1235\n",
            "Took care of 400 lines out of 1235\n",
            "Took care of 450 lines out of 1235\n",
            "Took care of 500 lines out of 1235\n",
            "Took care of 550 lines out of 1235\n",
            "Took care of 600 lines out of 1235\n",
            "Took care of 650 lines out of 1235\n",
            "Took care of 700 lines out of 1235\n",
            "Took care of 750 lines out of 1235\n",
            "Took care of 800 lines out of 1235\n",
            "Took care of 850 lines out of 1235\n",
            "Took care of 900 lines out of 1235\n",
            "Took care of 950 lines out of 1235\n",
            "Took care of 1000 lines out of 1235\n",
            "Took care of 1050 lines out of 1235\n",
            "Took care of 1100 lines out of 1235\n",
            "Took care of 1150 lines out of 1235\n",
            "Took care of 1200 lines out of 1235\n"
          ]
        }
      ]
    },
    {
      "cell_type": "code",
      "source": [
        "for index, row in temp_pensioni.iterrows():\n",
        "  if isinstance(pensioni_df.at[index, \"d3ap\"], str):\n",
        "    for d in sent_classifier(pensioni_df.at[index, \"d3ap\"])[0]:\n",
        "      if d[\"label\"] == \"positive\":\n",
        "        positive_score = d[\"score\"]\n",
        "    temp_pensioni.at[index, \"score_d3_positive_sent\"] = positive_score\n",
        "  elif pd.isnull(pensioni_df.at[index, \"d3ap\"]):\n",
        "    if pensioni_df.at[index, \"random\"] == \"Domande con scelta del panelista tra aperte e registrazione audio\":\n",
        "      if pensioni_df.at[index, \"d3\"] == \"Preferisco scrivere\":\n",
        "        if isinstance(pensioni_df.at[index, \"d3aperta\"], str):\n",
        "          for d in sent_classifier(pensioni_df.at[index, \"d3aperta\"])[0]:\n",
        "            if d[\"label\"] == \"positive\":\n",
        "              positive_score = d[\"score\"]\n",
        "          temp_pensioni.at[index, \"score_d3_positive_sent\"] = positive_score\n",
        "      elif pensioni_df.at[index, \"d3\"] == \"Desidero rispondere registrando un audio\":\n",
        "        idu = pensioni_df.at[index, \"IDU\"]\n",
        "        row_with_idu = choseaudio_df[choseaudio_df['IDU'] == idu]\n",
        "        if not row_with_idu.empty:\n",
        "          transcript = row_with_idu['d3rec_transcript'].values[0]\n",
        "          if isinstance(transcript, str):\n",
        "              for d in sent_classifier(transcript)[0]:\n",
        "                if d[\"label\"] == \"positive\":\n",
        "                  positive_score = d[\"score\"]\n",
        "              temp_pensioni.at[index, \"score_d3_positive_sent\"] = positive_score\n",
        "          elif not isinstance(transcript, str) or row_with_idu.empty:\n",
        "            if row_with_idu.empty:\n",
        "              print(f'No row with IDU = {idu}')\n",
        "            temp_pensioni.at[index, \"score_d3_positive_sent\"] = float(\"nan\")\n",
        "    elif pensioni_df.at[index, \"random\"] == \"Domande con registrazione audio\":\n",
        "      idu = pensioni_df.at[index, \"IDU\"]\n",
        "      row_with_idu = audio_df[audio_df['IDU'] == idu]\n",
        "      if not row_with_idu.empty:\n",
        "        transcript = row_with_idu['d3rec_transcript'].values[0]\n",
        "        if isinstance(transcript, str):\n",
        "            for d in sent_classifier(transcript)[0]:\n",
        "              if d[\"label\"] == \"positive\":\n",
        "                positive_score = d[\"score\"]\n",
        "            temp_pensioni.at[index, \"score_d3_positive_sent\"] = positive_score\n",
        "        elif not isinstance(transcript, str) or row_with_idu.empty:\n",
        "          if row_with_idu.empty:\n",
        "            print(f'No row with IDU = {idu}')\n",
        "          temp_pensioni.at[index, \"score_d3_positive_sent\"] = float(\"nan\")\n",
        "  if index % 50 == 0:\n",
        "    print(f\"Took care of {index} lines out of {temp_pensioni.shape[0]}\")"
      ],
      "metadata": {
        "colab": {
          "base_uri": "https://localhost:8080/"
        },
        "id": "COHJxjAgSrEU",
        "outputId": "c48e1bd8-3395-4145-9238-0c87e49afa71"
      },
      "execution_count": null,
      "outputs": [
        {
          "output_type": "stream",
          "name": "stdout",
          "text": [
            "Took care of 0 lines out of 1235\n",
            "Took care of 50 lines out of 1235\n",
            "Took care of 100 lines out of 1235\n",
            "Took care of 150 lines out of 1235\n",
            "Took care of 200 lines out of 1235\n",
            "Took care of 250 lines out of 1235\n",
            "Took care of 300 lines out of 1235\n",
            "Took care of 350 lines out of 1235\n",
            "Took care of 400 lines out of 1235\n",
            "Took care of 450 lines out of 1235\n",
            "Took care of 500 lines out of 1235\n",
            "Took care of 550 lines out of 1235\n",
            "Took care of 600 lines out of 1235\n",
            "Took care of 650 lines out of 1235\n",
            "Took care of 700 lines out of 1235\n",
            "Took care of 750 lines out of 1235\n",
            "Took care of 800 lines out of 1235\n",
            "Took care of 850 lines out of 1235\n",
            "Took care of 900 lines out of 1235\n",
            "Took care of 950 lines out of 1235\n",
            "Took care of 1000 lines out of 1235\n",
            "Took care of 1050 lines out of 1235\n",
            "Took care of 1100 lines out of 1235\n",
            "Took care of 1150 lines out of 1235\n",
            "Took care of 1200 lines out of 1235\n"
          ]
        }
      ]
    },
    {
      "cell_type": "markdown",
      "source": [
        "# Sanity checks"
      ],
      "metadata": {
        "id": "SYKS4blzLwKN"
      }
    },
    {
      "cell_type": "code",
      "source": [
        "temp_pensioni.columns"
      ],
      "metadata": {
        "colab": {
          "base_uri": "https://localhost:8080/"
        },
        "id": "TmcPkeyVKKdU",
        "outputId": "7a446cad-a17f-4fd2-c421-eec0bed1b7fd"
      },
      "execution_count": null,
      "outputs": [
        {
          "output_type": "execute_result",
          "data": {
            "text/plain": [
              "Index(['IDU', 'STARTTIME', 'ENDTIME', 'TOTALDURATION', 'p_sesso', 'p_r_eta',\n",
              "       'p_r_eta_6', 'generation', 'random', 'lega', 'p_comune_istat',\n",
              "       'p_geo_cap', 'p_r_ampiezza6', 'r_capoluogo', 'a_istat_reg',\n",
              "       'a_istat_prov', 'zona_5istat', 'p_occ_principale', 'p_prof',\n",
              "       'p_autocol', 'p_voto_pol22', 'p_int_voto', 'p_scolarita', 'scol2', 'd0',\n",
              "       'introaudio', 'data0', 'ora0', 'd1ap', 'label_d1_emotion',\n",
              "       'score_d1_anger', 'score_d1_fear', 'score_d1_sadness', 'score_d1_joy',\n",
              "       'score_d1_positive_sent', 'd1', 'd1aperta', 'd1recorder', 'd1rec',\n",
              "       'data1', 'ora1', 'd2ap', 'label_d2_emotion', 'score_d2_anger',\n",
              "       'score_d2_fear', 'score_d2_sadness', 'score_d2_joy',\n",
              "       'score_d2_positive_sent', 'd2', 'd2aperta', 'd2recorder', 'd2rec',\n",
              "       'data2', 'ora2', 'd3ap', 'label_d3_emotion', 'score_d3_anger',\n",
              "       'score_d3_fear', 'score_d3_sadness', 'score_d3_joy',\n",
              "       'score_d3_positive_sent', 'd3', 'd3aperta', 'd3recorder', 'd3rec',\n",
              "       'data3', 'ora3', 'etapensione', 'annicontributi', 'platform'],\n",
              "      dtype='object')"
            ]
          },
          "metadata": {},
          "execution_count": 74
        }
      ]
    },
    {
      "cell_type": "code",
      "source": [
        "temp_pensioni[[\"IDU\", \"d1ap\", \"d1aperta\", \"d1recorder\", \"d1rec\", \"label_d1_emotion\", \"score_d1_anger\", \"score_d1_fear\", \"score_d1_sadness\", \"score_d1_joy\", \"score_d1_positive_sent\"]].head()"
      ],
      "metadata": {
        "id": "dAn4QXaRJ2Ht"
      },
      "execution_count": null,
      "outputs": []
    },
    {
      "cell_type": "code",
      "source": [
        "temp_pensioni[[\"IDU\", \"d2ap\", \"d2aperta\", \"d2recorder\", \"d2rec\", \"label_d2_emotion\", \"score_d2_anger\", \"score_d2_fear\", \"score_d2_sadness\", \"score_d2_joy\", \"score_d2_positive_sent\"]].head()"
      ],
      "metadata": {
        "colab": {
          "base_uri": "https://localhost:8080/",
          "height": 513
        },
        "id": "e9WXPFhBS5rp",
        "outputId": "25ef58a9-0b90-4a89-8058-82bb9a008b07"
      },
      "execution_count": null,
      "outputs": [
        {
          "output_type": "execute_result",
          "data": {
            "text/plain": [
              "      IDU                                               d2ap  \\\n",
              "0     NaN  {INCLUDEBOTH question_id=\"lega\" qstxpath=\"stri...   \n",
              "1   775.0                                                NaN   \n",
              "2   783.0                                                NaN   \n",
              "3  3019.0                                                NaN   \n",
              "4  8589.0                                                NaN   \n",
              "\n",
              "                                            d2aperta  \\\n",
              "0                                                NaN   \n",
              "1                                                NaN   \n",
              "2  Non conosco a fondo la questione per cui non p...   \n",
              "3  Qualsiasi riforma deve esser complessiva ripor...   \n",
              "4                          Non è una buona soluzione   \n",
              "\n",
              "                                          d2recorder  \\\n",
              "0  Cliccando sul pulsante partirà la registrazion...   \n",
              "1                                                NaN   \n",
              "2                                                NaN   \n",
              "3                                                NaN   \n",
              "4                                                NaN   \n",
              "\n",
              "                                               d2rec label_d2_emotion  \\\n",
              "0  {INCLUDEBOTH question_id=\"lega\" qstxpath=\"stri...          sadness   \n",
              "1                                         d2_775.mp3            anger   \n",
              "2                                                NaN          sadness   \n",
              "3                                                NaN            anger   \n",
              "4                                                NaN          sadness   \n",
              "\n",
              "  score_d2_anger score_d2_fear score_d2_sadness score_d2_joy  \\\n",
              "0       0.000726      0.071265         0.541276     0.386734   \n",
              "1       0.997759      0.000534         0.001657      0.00005   \n",
              "2       0.002418      0.002952         0.993766     0.000864   \n",
              "3       0.975465      0.018257         0.006094     0.000184   \n",
              "4       0.002257       0.32045         0.551603     0.125689   \n",
              "\n",
              "  score_d2_positive_sent  \n",
              "0               0.998733  \n",
              "1               0.000222  \n",
              "2               0.001494  \n",
              "3               0.000525  \n",
              "4               0.999496  "
            ],
            "text/html": [
              "\n",
              "  <div id=\"df-ebd86392-bf04-45f0-8e86-40789ee49544\">\n",
              "    <div class=\"colab-df-container\">\n",
              "      <div>\n",
              "<style scoped>\n",
              "    .dataframe tbody tr th:only-of-type {\n",
              "        vertical-align: middle;\n",
              "    }\n",
              "\n",
              "    .dataframe tbody tr th {\n",
              "        vertical-align: top;\n",
              "    }\n",
              "\n",
              "    .dataframe thead th {\n",
              "        text-align: right;\n",
              "    }\n",
              "</style>\n",
              "<table border=\"1\" class=\"dataframe\">\n",
              "  <thead>\n",
              "    <tr style=\"text-align: right;\">\n",
              "      <th></th>\n",
              "      <th>IDU</th>\n",
              "      <th>d2ap</th>\n",
              "      <th>d2aperta</th>\n",
              "      <th>d2recorder</th>\n",
              "      <th>d2rec</th>\n",
              "      <th>label_d2_emotion</th>\n",
              "      <th>score_d2_anger</th>\n",
              "      <th>score_d2_fear</th>\n",
              "      <th>score_d2_sadness</th>\n",
              "      <th>score_d2_joy</th>\n",
              "      <th>score_d2_positive_sent</th>\n",
              "    </tr>\n",
              "  </thead>\n",
              "  <tbody>\n",
              "    <tr>\n",
              "      <th>0</th>\n",
              "      <td>NaN</td>\n",
              "      <td>{INCLUDEBOTH question_id=\"lega\" qstxpath=\"stri...</td>\n",
              "      <td>NaN</td>\n",
              "      <td>Cliccando sul pulsante partirà la registrazion...</td>\n",
              "      <td>{INCLUDEBOTH question_id=\"lega\" qstxpath=\"stri...</td>\n",
              "      <td>sadness</td>\n",
              "      <td>0.000726</td>\n",
              "      <td>0.071265</td>\n",
              "      <td>0.541276</td>\n",
              "      <td>0.386734</td>\n",
              "      <td>0.998733</td>\n",
              "    </tr>\n",
              "    <tr>\n",
              "      <th>1</th>\n",
              "      <td>775.0</td>\n",
              "      <td>NaN</td>\n",
              "      <td>NaN</td>\n",
              "      <td>NaN</td>\n",
              "      <td>d2_775.mp3</td>\n",
              "      <td>anger</td>\n",
              "      <td>0.997759</td>\n",
              "      <td>0.000534</td>\n",
              "      <td>0.001657</td>\n",
              "      <td>0.00005</td>\n",
              "      <td>0.000222</td>\n",
              "    </tr>\n",
              "    <tr>\n",
              "      <th>2</th>\n",
              "      <td>783.0</td>\n",
              "      <td>NaN</td>\n",
              "      <td>Non conosco a fondo la questione per cui non p...</td>\n",
              "      <td>NaN</td>\n",
              "      <td>NaN</td>\n",
              "      <td>sadness</td>\n",
              "      <td>0.002418</td>\n",
              "      <td>0.002952</td>\n",
              "      <td>0.993766</td>\n",
              "      <td>0.000864</td>\n",
              "      <td>0.001494</td>\n",
              "    </tr>\n",
              "    <tr>\n",
              "      <th>3</th>\n",
              "      <td>3019.0</td>\n",
              "      <td>NaN</td>\n",
              "      <td>Qualsiasi riforma deve esser complessiva ripor...</td>\n",
              "      <td>NaN</td>\n",
              "      <td>NaN</td>\n",
              "      <td>anger</td>\n",
              "      <td>0.975465</td>\n",
              "      <td>0.018257</td>\n",
              "      <td>0.006094</td>\n",
              "      <td>0.000184</td>\n",
              "      <td>0.000525</td>\n",
              "    </tr>\n",
              "    <tr>\n",
              "      <th>4</th>\n",
              "      <td>8589.0</td>\n",
              "      <td>NaN</td>\n",
              "      <td>Non è una buona soluzione</td>\n",
              "      <td>NaN</td>\n",
              "      <td>NaN</td>\n",
              "      <td>sadness</td>\n",
              "      <td>0.002257</td>\n",
              "      <td>0.32045</td>\n",
              "      <td>0.551603</td>\n",
              "      <td>0.125689</td>\n",
              "      <td>0.999496</td>\n",
              "    </tr>\n",
              "  </tbody>\n",
              "</table>\n",
              "</div>\n",
              "      <button class=\"colab-df-convert\" onclick=\"convertToInteractive('df-ebd86392-bf04-45f0-8e86-40789ee49544')\"\n",
              "              title=\"Convert this dataframe to an interactive table.\"\n",
              "              style=\"display:none;\">\n",
              "        \n",
              "  <svg xmlns=\"http://www.w3.org/2000/svg\" height=\"24px\"viewBox=\"0 0 24 24\"\n",
              "       width=\"24px\">\n",
              "    <path d=\"M0 0h24v24H0V0z\" fill=\"none\"/>\n",
              "    <path d=\"M18.56 5.44l.94 2.06.94-2.06 2.06-.94-2.06-.94-.94-2.06-.94 2.06-2.06.94zm-11 1L8.5 8.5l.94-2.06 2.06-.94-2.06-.94L8.5 2.5l-.94 2.06-2.06.94zm10 10l.94 2.06.94-2.06 2.06-.94-2.06-.94-.94-2.06-.94 2.06-2.06.94z\"/><path d=\"M17.41 7.96l-1.37-1.37c-.4-.4-.92-.59-1.43-.59-.52 0-1.04.2-1.43.59L10.3 9.45l-7.72 7.72c-.78.78-.78 2.05 0 2.83L4 21.41c.39.39.9.59 1.41.59.51 0 1.02-.2 1.41-.59l7.78-7.78 2.81-2.81c.8-.78.8-2.07 0-2.86zM5.41 20L4 18.59l7.72-7.72 1.47 1.35L5.41 20z\"/>\n",
              "  </svg>\n",
              "      </button>\n",
              "      \n",
              "  <style>\n",
              "    .colab-df-container {\n",
              "      display:flex;\n",
              "      flex-wrap:wrap;\n",
              "      gap: 12px;\n",
              "    }\n",
              "\n",
              "    .colab-df-convert {\n",
              "      background-color: #E8F0FE;\n",
              "      border: none;\n",
              "      border-radius: 50%;\n",
              "      cursor: pointer;\n",
              "      display: none;\n",
              "      fill: #1967D2;\n",
              "      height: 32px;\n",
              "      padding: 0 0 0 0;\n",
              "      width: 32px;\n",
              "    }\n",
              "\n",
              "    .colab-df-convert:hover {\n",
              "      background-color: #E2EBFA;\n",
              "      box-shadow: 0px 1px 2px rgba(60, 64, 67, 0.3), 0px 1px 3px 1px rgba(60, 64, 67, 0.15);\n",
              "      fill: #174EA6;\n",
              "    }\n",
              "\n",
              "    [theme=dark] .colab-df-convert {\n",
              "      background-color: #3B4455;\n",
              "      fill: #D2E3FC;\n",
              "    }\n",
              "\n",
              "    [theme=dark] .colab-df-convert:hover {\n",
              "      background-color: #434B5C;\n",
              "      box-shadow: 0px 1px 3px 1px rgba(0, 0, 0, 0.15);\n",
              "      filter: drop-shadow(0px 1px 2px rgba(0, 0, 0, 0.3));\n",
              "      fill: #FFFFFF;\n",
              "    }\n",
              "  </style>\n",
              "\n",
              "      <script>\n",
              "        const buttonEl =\n",
              "          document.querySelector('#df-ebd86392-bf04-45f0-8e86-40789ee49544 button.colab-df-convert');\n",
              "        buttonEl.style.display =\n",
              "          google.colab.kernel.accessAllowed ? 'block' : 'none';\n",
              "\n",
              "        async function convertToInteractive(key) {\n",
              "          const element = document.querySelector('#df-ebd86392-bf04-45f0-8e86-40789ee49544');\n",
              "          const dataTable =\n",
              "            await google.colab.kernel.invokeFunction('convertToInteractive',\n",
              "                                                     [key], {});\n",
              "          if (!dataTable) return;\n",
              "\n",
              "          const docLinkHtml = 'Like what you see? Visit the ' +\n",
              "            '<a target=\"_blank\" href=https://colab.research.google.com/notebooks/data_table.ipynb>data table notebook</a>'\n",
              "            + ' to learn more about interactive tables.';\n",
              "          element.innerHTML = '';\n",
              "          dataTable['output_type'] = 'display_data';\n",
              "          await google.colab.output.renderOutput(dataTable, element);\n",
              "          const docLink = document.createElement('div');\n",
              "          docLink.innerHTML = docLinkHtml;\n",
              "          element.appendChild(docLink);\n",
              "        }\n",
              "      </script>\n",
              "    </div>\n",
              "  </div>\n",
              "  "
            ]
          },
          "metadata": {},
          "execution_count": 89
        }
      ]
    },
    {
      "cell_type": "code",
      "source": [
        "em_classifier(\"Qualsiasi riforma deve esser complessiva riportando ad equità tutte le categorie di pensionati; non solo quelli del presente e del futuro; ma coinvolgendo anche i pensionati precedenti.\")"
      ],
      "metadata": {
        "colab": {
          "base_uri": "https://localhost:8080/"
        },
        "id": "FdZJtYoVTnNq",
        "outputId": "6f966d46-70b9-4d9b-a937-c79b0e157c41"
      },
      "execution_count": null,
      "outputs": [
        {
          "output_type": "execute_result",
          "data": {
            "text/plain": [
              "[[{'label': 'anger', 'score': 0.9754653573036194},\n",
              "  {'label': 'fear', 'score': 0.018257256597280502},\n",
              "  {'label': 'sadness', 'score': 0.006093719508498907},\n",
              "  {'label': 'joy', 'score': 0.00018364850257057697}]]"
            ]
          },
          "metadata": {},
          "execution_count": 93
        }
      ]
    },
    {
      "cell_type": "code",
      "source": [
        "sent_classifier(\"Qualsiasi riforma deve esser complessiva riportando ad equità tutte le categorie di pensionati; non solo quelli del presente e del futuro; ma coinvolgendo anche i pensionati precedenti.\")"
      ],
      "metadata": {
        "colab": {
          "base_uri": "https://localhost:8080/"
        },
        "id": "5O33HjUHTpuU",
        "outputId": "ad33b70d-d4dc-4ab3-af36-c5ae88b4cb5d"
      },
      "execution_count": null,
      "outputs": [
        {
          "output_type": "execute_result",
          "data": {
            "text/plain": [
              "[[{'label': 'negative', 'score': 0.9994749426841736},\n",
              "  {'label': 'positive', 'score': 0.000525072100572288}]]"
            ]
          },
          "metadata": {},
          "execution_count": 94
        }
      ]
    },
    {
      "cell_type": "code",
      "source": [
        "temp_pensioni[[\"IDU\", \"d3ap\", \"d3aperta\", \"d3recorder\", \"d3rec\", \"label_d3_emotion\", \"score_d3_anger\", \"score_d3_fear\", \"score_d3_sadness\", \"score_d3_joy\", \"score_d3_positive_sent\"]].head()"
      ],
      "metadata": {
        "colab": {
          "base_uri": "https://localhost:8080/",
          "height": 511
        },
        "id": "s_hKNmXDS-g-",
        "outputId": "e695a106-4401-42cb-a305-f18e25fd7ed7"
      },
      "execution_count": null,
      "outputs": [
        {
          "output_type": "execute_result",
          "data": {
            "text/plain": [
              "      IDU                                               d3ap  \\\n",
              "0     NaN  Secondo lei, quale dovrebbe essere l’età raggi...   \n",
              "1   775.0                                                NaN   \n",
              "2   783.0                                                NaN   \n",
              "3  3019.0                                                NaN   \n",
              "4  8589.0                                                NaN   \n",
              "\n",
              "                                            d3aperta  \\\n",
              "0                                                NaN   \n",
              "1                                                NaN   \n",
              "2  Penso che 67 68 anni siano l'età giusta indipe...   \n",
              "3  40 anni di contributi: in tal modo chi è entra...   \n",
              "4  Quarant'anni di contributi effettivi  Età mass...   \n",
              "\n",
              "                                          d3recorder  \\\n",
              "0  Cliccando sul pulsante partirà la registrazion...   \n",
              "1                                                NaN   \n",
              "2                                                NaN   \n",
              "3                                                NaN   \n",
              "4                                                NaN   \n",
              "\n",
              "                                               d3rec label_d3_emotion  \\\n",
              "0  Secondo lei, quale dovrebbe essere l’età raggi...             fear   \n",
              "1                                         d3_775.mp3            anger   \n",
              "2                                                NaN              joy   \n",
              "3                                                NaN            anger   \n",
              "4                                                NaN             fear   \n",
              "\n",
              "  score_d3_anger score_d3_fear score_d3_sadness score_d3_joy  \\\n",
              "0       0.008791      0.899671         0.087254     0.004284   \n",
              "1       0.793623      0.037074         0.168956     0.000348   \n",
              "2       0.000662      0.050363         0.005556     0.943419   \n",
              "3       0.954333      0.011119         0.034411     0.000138   \n",
              "4       0.027803       0.64221         0.326663     0.003325   \n",
              "\n",
              "  score_d3_positive_sent  \n",
              "0               0.000943  \n",
              "1               0.000365  \n",
              "2               0.998638  \n",
              "3               0.000455  \n",
              "4               0.501758  "
            ],
            "text/html": [
              "\n",
              "  <div id=\"df-d116b9fa-990f-4a83-bbf0-c80517582656\">\n",
              "    <div class=\"colab-df-container\">\n",
              "      <div>\n",
              "<style scoped>\n",
              "    .dataframe tbody tr th:only-of-type {\n",
              "        vertical-align: middle;\n",
              "    }\n",
              "\n",
              "    .dataframe tbody tr th {\n",
              "        vertical-align: top;\n",
              "    }\n",
              "\n",
              "    .dataframe thead th {\n",
              "        text-align: right;\n",
              "    }\n",
              "</style>\n",
              "<table border=\"1\" class=\"dataframe\">\n",
              "  <thead>\n",
              "    <tr style=\"text-align: right;\">\n",
              "      <th></th>\n",
              "      <th>IDU</th>\n",
              "      <th>d3ap</th>\n",
              "      <th>d3aperta</th>\n",
              "      <th>d3recorder</th>\n",
              "      <th>d3rec</th>\n",
              "      <th>label_d3_emotion</th>\n",
              "      <th>score_d3_anger</th>\n",
              "      <th>score_d3_fear</th>\n",
              "      <th>score_d3_sadness</th>\n",
              "      <th>score_d3_joy</th>\n",
              "      <th>score_d3_positive_sent</th>\n",
              "    </tr>\n",
              "  </thead>\n",
              "  <tbody>\n",
              "    <tr>\n",
              "      <th>0</th>\n",
              "      <td>NaN</td>\n",
              "      <td>Secondo lei, quale dovrebbe essere l’età raggi...</td>\n",
              "      <td>NaN</td>\n",
              "      <td>Cliccando sul pulsante partirà la registrazion...</td>\n",
              "      <td>Secondo lei, quale dovrebbe essere l’età raggi...</td>\n",
              "      <td>fear</td>\n",
              "      <td>0.008791</td>\n",
              "      <td>0.899671</td>\n",
              "      <td>0.087254</td>\n",
              "      <td>0.004284</td>\n",
              "      <td>0.000943</td>\n",
              "    </tr>\n",
              "    <tr>\n",
              "      <th>1</th>\n",
              "      <td>775.0</td>\n",
              "      <td>NaN</td>\n",
              "      <td>NaN</td>\n",
              "      <td>NaN</td>\n",
              "      <td>d3_775.mp3</td>\n",
              "      <td>anger</td>\n",
              "      <td>0.793623</td>\n",
              "      <td>0.037074</td>\n",
              "      <td>0.168956</td>\n",
              "      <td>0.000348</td>\n",
              "      <td>0.000365</td>\n",
              "    </tr>\n",
              "    <tr>\n",
              "      <th>2</th>\n",
              "      <td>783.0</td>\n",
              "      <td>NaN</td>\n",
              "      <td>Penso che 67 68 anni siano l'età giusta indipe...</td>\n",
              "      <td>NaN</td>\n",
              "      <td>NaN</td>\n",
              "      <td>joy</td>\n",
              "      <td>0.000662</td>\n",
              "      <td>0.050363</td>\n",
              "      <td>0.005556</td>\n",
              "      <td>0.943419</td>\n",
              "      <td>0.998638</td>\n",
              "    </tr>\n",
              "    <tr>\n",
              "      <th>3</th>\n",
              "      <td>3019.0</td>\n",
              "      <td>NaN</td>\n",
              "      <td>40 anni di contributi: in tal modo chi è entra...</td>\n",
              "      <td>NaN</td>\n",
              "      <td>NaN</td>\n",
              "      <td>anger</td>\n",
              "      <td>0.954333</td>\n",
              "      <td>0.011119</td>\n",
              "      <td>0.034411</td>\n",
              "      <td>0.000138</td>\n",
              "      <td>0.000455</td>\n",
              "    </tr>\n",
              "    <tr>\n",
              "      <th>4</th>\n",
              "      <td>8589.0</td>\n",
              "      <td>NaN</td>\n",
              "      <td>Quarant'anni di contributi effettivi  Età mass...</td>\n",
              "      <td>NaN</td>\n",
              "      <td>NaN</td>\n",
              "      <td>fear</td>\n",
              "      <td>0.027803</td>\n",
              "      <td>0.64221</td>\n",
              "      <td>0.326663</td>\n",
              "      <td>0.003325</td>\n",
              "      <td>0.501758</td>\n",
              "    </tr>\n",
              "  </tbody>\n",
              "</table>\n",
              "</div>\n",
              "      <button class=\"colab-df-convert\" onclick=\"convertToInteractive('df-d116b9fa-990f-4a83-bbf0-c80517582656')\"\n",
              "              title=\"Convert this dataframe to an interactive table.\"\n",
              "              style=\"display:none;\">\n",
              "        \n",
              "  <svg xmlns=\"http://www.w3.org/2000/svg\" height=\"24px\"viewBox=\"0 0 24 24\"\n",
              "       width=\"24px\">\n",
              "    <path d=\"M0 0h24v24H0V0z\" fill=\"none\"/>\n",
              "    <path d=\"M18.56 5.44l.94 2.06.94-2.06 2.06-.94-2.06-.94-.94-2.06-.94 2.06-2.06.94zm-11 1L8.5 8.5l.94-2.06 2.06-.94-2.06-.94L8.5 2.5l-.94 2.06-2.06.94zm10 10l.94 2.06.94-2.06 2.06-.94-2.06-.94-.94-2.06-.94 2.06-2.06.94z\"/><path d=\"M17.41 7.96l-1.37-1.37c-.4-.4-.92-.59-1.43-.59-.52 0-1.04.2-1.43.59L10.3 9.45l-7.72 7.72c-.78.78-.78 2.05 0 2.83L4 21.41c.39.39.9.59 1.41.59.51 0 1.02-.2 1.41-.59l7.78-7.78 2.81-2.81c.8-.78.8-2.07 0-2.86zM5.41 20L4 18.59l7.72-7.72 1.47 1.35L5.41 20z\"/>\n",
              "  </svg>\n",
              "      </button>\n",
              "      \n",
              "  <style>\n",
              "    .colab-df-container {\n",
              "      display:flex;\n",
              "      flex-wrap:wrap;\n",
              "      gap: 12px;\n",
              "    }\n",
              "\n",
              "    .colab-df-convert {\n",
              "      background-color: #E8F0FE;\n",
              "      border: none;\n",
              "      border-radius: 50%;\n",
              "      cursor: pointer;\n",
              "      display: none;\n",
              "      fill: #1967D2;\n",
              "      height: 32px;\n",
              "      padding: 0 0 0 0;\n",
              "      width: 32px;\n",
              "    }\n",
              "\n",
              "    .colab-df-convert:hover {\n",
              "      background-color: #E2EBFA;\n",
              "      box-shadow: 0px 1px 2px rgba(60, 64, 67, 0.3), 0px 1px 3px 1px rgba(60, 64, 67, 0.15);\n",
              "      fill: #174EA6;\n",
              "    }\n",
              "\n",
              "    [theme=dark] .colab-df-convert {\n",
              "      background-color: #3B4455;\n",
              "      fill: #D2E3FC;\n",
              "    }\n",
              "\n",
              "    [theme=dark] .colab-df-convert:hover {\n",
              "      background-color: #434B5C;\n",
              "      box-shadow: 0px 1px 3px 1px rgba(0, 0, 0, 0.15);\n",
              "      filter: drop-shadow(0px 1px 2px rgba(0, 0, 0, 0.3));\n",
              "      fill: #FFFFFF;\n",
              "    }\n",
              "  </style>\n",
              "\n",
              "      <script>\n",
              "        const buttonEl =\n",
              "          document.querySelector('#df-d116b9fa-990f-4a83-bbf0-c80517582656 button.colab-df-convert');\n",
              "        buttonEl.style.display =\n",
              "          google.colab.kernel.accessAllowed ? 'block' : 'none';\n",
              "\n",
              "        async function convertToInteractive(key) {\n",
              "          const element = document.querySelector('#df-d116b9fa-990f-4a83-bbf0-c80517582656');\n",
              "          const dataTable =\n",
              "            await google.colab.kernel.invokeFunction('convertToInteractive',\n",
              "                                                     [key], {});\n",
              "          if (!dataTable) return;\n",
              "\n",
              "          const docLinkHtml = 'Like what you see? Visit the ' +\n",
              "            '<a target=\"_blank\" href=https://colab.research.google.com/notebooks/data_table.ipynb>data table notebook</a>'\n",
              "            + ' to learn more about interactive tables.';\n",
              "          element.innerHTML = '';\n",
              "          dataTable['output_type'] = 'display_data';\n",
              "          await google.colab.output.renderOutput(dataTable, element);\n",
              "          const docLink = document.createElement('div');\n",
              "          docLink.innerHTML = docLinkHtml;\n",
              "          element.appendChild(docLink);\n",
              "        }\n",
              "      </script>\n",
              "    </div>\n",
              "  </div>\n",
              "  "
            ]
          },
          "metadata": {},
          "execution_count": 90
        }
      ]
    },
    {
      "cell_type": "code",
      "source": [
        "sent_classifier(\"Penso che 67 68 anni siano l'età giusta indipendentemente dal numero di anni di contributi\")"
      ],
      "metadata": {
        "colab": {
          "base_uri": "https://localhost:8080/"
        },
        "id": "YT9R6xt-Q5LB",
        "outputId": "89c2b762-e727-4d96-98b5-25297977127a"
      },
      "execution_count": null,
      "outputs": [
        {
          "output_type": "execute_result",
          "data": {
            "text/plain": [
              "[[{'label': 'positive', 'score': 0.9986383318901062},\n",
              "  {'label': 'negative', 'score': 0.0013616009382531047}]]"
            ]
          },
          "metadata": {},
          "execution_count": 95
        }
      ]
    },
    {
      "cell_type": "code",
      "source": [
        "em_classifier(\"Penso che 67 68 anni siano l'età giusta indipendentemente dal numero di anni di contributi\")"
      ],
      "metadata": {
        "colab": {
          "base_uri": "https://localhost:8080/"
        },
        "id": "gls0sZhwFiEj",
        "outputId": "76b4c2b5-fa39-4050-87ac-b20c3415da65"
      },
      "execution_count": null,
      "outputs": [
        {
          "output_type": "execute_result",
          "data": {
            "text/plain": [
              "[[{'label': 'joy', 'score': 0.9434187412261963},\n",
              "  {'label': 'fear', 'score': 0.05036298558115959},\n",
              "  {'label': 'sadness', 'score': 0.005555696319788694},\n",
              "  {'label': 'anger', 'score': 0.0006624521338380873}]]"
            ]
          },
          "metadata": {},
          "execution_count": 96
        }
      ]
    },
    {
      "cell_type": "code",
      "source": [
        "temp_pensioni.columns"
      ],
      "metadata": {
        "colab": {
          "base_uri": "https://localhost:8080/"
        },
        "id": "Nv6Rk2ZCWKUc",
        "outputId": "1379ae95-bdda-4bf6-8a10-c857a16be1f7"
      },
      "execution_count": null,
      "outputs": [
        {
          "output_type": "execute_result",
          "data": {
            "text/plain": [
              "Index(['IDU', 'STARTTIME', 'ENDTIME', 'TOTALDURATION', 'p_sesso', 'p_r_eta',\n",
              "       'p_r_eta_6', 'generation', 'random', 'lega', 'p_comune_istat',\n",
              "       'p_geo_cap', 'p_r_ampiezza6', 'r_capoluogo', 'a_istat_reg',\n",
              "       'a_istat_prov', 'zona_5istat', 'p_occ_principale', 'p_prof',\n",
              "       'p_autocol', 'p_voto_pol22', 'p_int_voto', 'p_scolarita', 'scol2', 'd0',\n",
              "       'introaudio', 'data0', 'ora0', 'd1ap', 'label_d1_emotion',\n",
              "       'score_d1_anger', 'score_d1_fear', 'score_d1_sadness', 'score_d1_joy',\n",
              "       'score_d1_positive_sent', 'd1', 'd1aperta', 'd1recorder', 'd1rec',\n",
              "       'data1', 'ora1', 'd2ap', 'label_d2_emotion', 'score_d2_anger',\n",
              "       'score_d2_fear', 'score_d2_sadness', 'score_d2_joy',\n",
              "       'score_d2_positive_sent', 'd2', 'd2aperta', 'd2recorder', 'd2rec',\n",
              "       'data2', 'ora2', 'd3ap', 'label_d3_emotion', 'score_d3_anger',\n",
              "       'score_d3_fear', 'score_d3_sadness', 'score_d3_joy',\n",
              "       'score_d3_positive_sent', 'd3', 'd3aperta', 'd3recorder', 'd3rec',\n",
              "       'data3', 'ora3', 'etapensione', 'annicontributi', 'platform'],\n",
              "      dtype='object')"
            ]
          },
          "metadata": {},
          "execution_count": 103
        }
      ]
    },
    {
      "cell_type": "code",
      "source": [
        "temp_pensioni.to_excel(\"/content/gdrive/MyDrive/Speech2Text/Pensioni/FinalSentimentAnalysis_Pensioni.xlsx\", index=False)"
      ],
      "metadata": {
        "id": "_tahn7BkRxsZ"
      },
      "execution_count": null,
      "outputs": []
    },
    {
      "cell_type": "code",
      "source": [
        "sent_classifier(\"65 \")"
      ],
      "metadata": {
        "colab": {
          "base_uri": "https://localhost:8080/"
        },
        "id": "TSssqOWjUbKt",
        "outputId": "89b71b34-53cd-48d5-b98e-95c97f507c1a"
      },
      "execution_count": null,
      "outputs": [
        {
          "output_type": "execute_result",
          "data": {
            "text/plain": [
              "[[{'label': 'positive', 'score': 0.999651312828064},\n",
              "  {'label': 'negative', 'score': 0.00034874037373811007}]]"
            ]
          },
          "metadata": {},
          "execution_count": 101
        }
      ]
    },
    {
      "cell_type": "code",
      "source": [
        "sent_classifier(\"55\")"
      ],
      "metadata": {
        "colab": {
          "base_uri": "https://localhost:8080/"
        },
        "id": "AXI-8psUUj-0",
        "outputId": "6b6416cb-494f-4b24-9705-e09d951159ba"
      },
      "execution_count": null,
      "outputs": [
        {
          "output_type": "execute_result",
          "data": {
            "text/plain": [
              "[[{'label': 'negative', 'score': 0.9996616840362549},\n",
              "  {'label': 'positive', 'score': 0.00033829614403657615}]]"
            ]
          },
          "metadata": {},
          "execution_count": 102
        }
      ]
    },
    {
      "cell_type": "code",
      "source": [
        "temp_pensioni_copy = temp_pensioni.copy(deep=True)"
      ],
      "metadata": {
        "id": "5taT8aY5ayyt"
      },
      "execution_count": null,
      "outputs": []
    },
    {
      "cell_type": "code",
      "source": [
        "temp_pensioni_copy.columns"
      ],
      "metadata": {
        "id": "UglcjgiIeIZa"
      },
      "execution_count": null,
      "outputs": []
    },
    {
      "cell_type": "code",
      "source": [
        "columns_to_add = [\"d1rec_transcript\", \"d1rec_significative\", \"d1rec_significative_num\",\n",
        "                  \"d2rec_transcript\", \"d2rec_significative\", \"d2rec_significative_num\",\n",
        "                  \"d3rec_transcript\", \"d3rec_significative\", \"d3rec_significative_num\"]\n",
        "\n",
        "for column in columns_to_add:\n",
        "    if 'significative' in column:\n",
        "        temp_pensioni_copy[column] = [list()] * len(temp_pensioni_copy)\n",
        "    else:\n",
        "        temp_pensioni_copy[column] = \"\"\n",
        "\n",
        "merged_df = temp_pensioni_copy.merge(stacked_df_audio, on='IDU', how='left', suffixes=('', '_y'))\n",
        "\n",
        "for column in columns_to_add:\n",
        "    merged_df[column] = merged_df[column + '_y'].combine_first(merged_df[column])\n",
        "\n",
        "merged_df.drop([col + '_y' for col in columns_to_add], axis=1, inplace=True)\n",
        "\n",
        "temp_pensioni_copy = merged_df"
      ],
      "metadata": {
        "id": "-aWUS552aqeo"
      },
      "execution_count": null,
      "outputs": []
    },
    {
      "cell_type": "code",
      "source": [
        "columns_to_add = ['d1aperta_significative', 'd1aperta_significative_num',\n",
        "                  'd2aperta_significative', 'd2aperta_significative_num',\n",
        "                  'd3aperta_significative', 'd3aperta_significative_num']\n",
        "\n",
        "for column in columns_to_add:\n",
        "    if 'significative' in column:\n",
        "        temp_pensioni_copy[column] = [list()] * len(temp_pensioni_copy)\n",
        "    else:\n",
        "        temp_pensioni_copy[column] = \"\"\n",
        "\n",
        "merged_df_2 = temp_pensioni_copy.merge(stacked_df_open, on='IDU', how='left', suffixes=('', '_y'))\n",
        "\n",
        "for column in columns_to_add:\n",
        "    merged_df_2[column] = merged_df_2[column + '_y'].combine_first(merged_df_2[column])\n",
        "\n",
        "merged_df_2.drop([col + '_y' for col in columns_to_add], axis=1, inplace=True)\n",
        "\n",
        "temp_pensioni_copy = merged_df_2"
      ],
      "metadata": {
        "id": "tQdldCfMgRIa"
      },
      "execution_count": null,
      "outputs": []
    },
    {
      "cell_type": "code",
      "source": [
        "temp_pensioni_copy.columns"
      ],
      "metadata": {
        "colab": {
          "base_uri": "https://localhost:8080/"
        },
        "id": "ASgBFEhygqEE",
        "outputId": "bf78d386-4784-41b8-d4c9-048cf1c7df33"
      },
      "execution_count": null,
      "outputs": [
        {
          "output_type": "execute_result",
          "data": {
            "text/plain": [
              "Index(['IDU', 'STARTTIME', 'ENDTIME', 'TOTALDURATION', 'p_sesso', 'p_r_eta',\n",
              "       'p_r_eta_6', 'generation', 'random', 'lega', 'p_comune_istat',\n",
              "       'p_geo_cap', 'p_r_ampiezza6', 'r_capoluogo', 'a_istat_reg',\n",
              "       'a_istat_prov', 'zona_5istat', 'p_occ_principale', 'p_prof',\n",
              "       'p_autocol', 'p_voto_pol22', 'p_int_voto', 'p_scolarita', 'scol2', 'd0',\n",
              "       'introaudio', 'data0', 'ora0', 'd1ap', 'label_d1_emotion',\n",
              "       'score_d1_anger', 'score_d1_fear', 'score_d1_sadness', 'score_d1_joy',\n",
              "       'score_d1_positive_sent', 'd1', 'd1aperta', 'd1recorder', 'd1rec',\n",
              "       'data1', 'ora1', 'd2ap', 'label_d2_emotion', 'score_d2_anger',\n",
              "       'score_d2_fear', 'score_d2_sadness', 'score_d2_joy',\n",
              "       'score_d2_positive_sent', 'd2', 'd2aperta', 'd2recorder', 'd2rec',\n",
              "       'data2', 'ora2', 'd3ap', 'label_d3_emotion', 'score_d3_anger',\n",
              "       'score_d3_fear', 'score_d3_sadness', 'score_d3_joy',\n",
              "       'score_d3_positive_sent', 'd3', 'd3aperta', 'd3recorder', 'd3rec',\n",
              "       'data3', 'ora3', 'etapensione', 'annicontributi', 'platform',\n",
              "       'd1rec_transcript', 'd1rec_significative', 'd1rec_significative_num',\n",
              "       'd2rec_transcript', 'd2rec_significative', 'd2rec_significative_num',\n",
              "       'd3rec_transcript', 'd3rec_significative', 'd3rec_significative_num',\n",
              "       'd1aperta_significative', 'd1aperta_significative_num',\n",
              "       'd2aperta_significative', 'd2aperta_significative_num',\n",
              "       'd3aperta_significative', 'd3aperta_significative_num'],\n",
              "      dtype='object')"
            ]
          },
          "metadata": {},
          "execution_count": 175
        }
      ]
    },
    {
      "cell_type": "markdown",
      "source": [
        "Fix the following columns (esthetic purpose)"
      ],
      "metadata": {
        "id": "SgQaJV5_iZdp"
      }
    },
    {
      "cell_type": "code",
      "source": [
        "columns_to_modify = [\"d1rec_significative_num\", \"d2rec_significative_num\", \"d3rec_significative_num\",\n",
        "                     \"d1aperta_significative_num\", \"d2aperta_significative_num\", \"d3aperta_significative_num\"]\n",
        "\n",
        "temp_pensioni_copy[columns_to_modify] = temp_pensioni_copy[columns_to_modify].applymap(modify)"
      ],
      "metadata": {
        "id": "8zSHJys2h9WH"
      },
      "execution_count": null,
      "outputs": []
    },
    {
      "cell_type": "code",
      "source": [
        "columns_to_modify2 = [\"d1aperta_significative\", \"d2aperta_significative\", \"d3aperta_significative\",\n",
        "                     \"d1rec_significative\", \"d2rec_significative\", \"d3rec_significative\"]\n",
        "\n",
        "temp_pensioni_copy[columns_to_modify2] = temp_pensioni_copy[columns_to_modify2].applymap(modify2)"
      ],
      "metadata": {
        "id": "acBbOegsjmb9"
      },
      "execution_count": null,
      "outputs": []
    },
    {
      "cell_type": "code",
      "source": [
        "stacked_df_audio = stack_dataframes(temp_choseaudio_df, temp_audio_df)\n",
        "stacked_df_open = stack_dataframes(temp_choseopen_df, temp_open_df)"
      ],
      "metadata": {
        "id": "S5lkrcRzdSFd"
      },
      "execution_count": null,
      "outputs": []
    },
    {
      "cell_type": "markdown",
      "source": [
        "#Exporting file"
      ],
      "metadata": {
        "id": "6q8vOmi8j7FJ"
      }
    },
    {
      "cell_type": "code",
      "source": [
        "temp_pensioni_copy.to_excel(\"/content/gdrive/MyDrive/Speech2Text/Pensioni/temp_FinalSentimentAnalysis_Pensioni_copy.xlsx\", index=False)"
      ],
      "metadata": {
        "id": "iR0BDGg4j8lj"
      },
      "execution_count": null,
      "outputs": []
    },
    {
      "cell_type": "markdown",
      "source": [
        "#Functions"
      ],
      "metadata": {
        "id": "TUqfhGMAfgVc"
      }
    },
    {
      "cell_type": "code",
      "source": [
        "def overlapping_elements(list1, list2):\n",
        "    set1 = set(list1)\n",
        "    set2 = set(list2)\n",
        "\n",
        "    common_elements = set1 & set2\n",
        "\n",
        "    if len(common_elements) > 0:\n",
        "        print(f'The lists have common elements: {common_elements}')\n",
        "        return True\n",
        "    else:\n",
        "        print('The lists do not have any common elements.')\n",
        "        return False"
      ],
      "metadata": {
        "id": "Vc6Xw5Chfhj5"
      },
      "execution_count": null,
      "outputs": []
    },
    {
      "cell_type": "code",
      "source": [
        "def stack_dataframes(df1, df2):\n",
        "    if set(df1.columns) == set(df2.columns):\n",
        "        df = pd.concat([df1, df2], ignore_index=True)\n",
        "        return df\n",
        "    else:\n",
        "        return \"DataFrames do not have the same columns\""
      ],
      "metadata": {
        "id": "bYz7HpcLfkSt"
      },
      "execution_count": null,
      "outputs": []
    },
    {
      "cell_type": "code",
      "source": [
        "def modify(entry):\n",
        "    if entry == []:\n",
        "        return float(\"nan\")\n",
        "    elif isinstance(entry, float):\n",
        "        return int(entry)\n",
        "    else:\n",
        "        return entry"
      ],
      "metadata": {
        "id": "HE-XrY3AieHD"
      },
      "execution_count": null,
      "outputs": []
    },
    {
      "cell_type": "code",
      "source": [
        "def modify2(entry):\n",
        "    if entry == []:\n",
        "        return float(\"nan\")\n",
        "    elif isinstance(entry, str) and entry.startswith('[') and entry.endswith(']'):\n",
        "        try:\n",
        "            return ast.literal_eval(entry)\n",
        "        except:\n",
        "            return entry\n",
        "    else:\n",
        "        return entry"
      ],
      "metadata": {
        "id": "Agv6FsS2jhRg"
      },
      "execution_count": null,
      "outputs": []
    },
    {
      "cell_type": "code",
      "source": [
        "em_classifier(\"Secondo lei, quale dovrebbe essere l’età raggiunta la quale le persone devono poter andare in pensione? Oppure, in alternativa, il numero di anni di contributi, raggiunti i quali, le persone devono poter andare in pensione indipendentemente dall’età che hanno? Dica un numero e spieghi perché le sembra l’età giusta (o il numero di anni di contributi giusto).\")"
      ],
      "metadata": {
        "colab": {
          "base_uri": "https://localhost:8080/"
        },
        "id": "BT3zqP2U85EP",
        "outputId": "a7e5a497-3e0c-4b59-8a61-8b37a7710d05"
      },
      "execution_count": null,
      "outputs": [
        {
          "output_type": "execute_result",
          "data": {
            "text/plain": [
              "[[{'label': 'fear', 'score': 0.899671196937561},\n",
              "  {'label': 'sadness', 'score': 0.08725354075431824},\n",
              "  {'label': 'anger', 'score': 0.008791006170213223},\n",
              "  {'label': 'joy', 'score': 0.00428432272747159}]]"
            ]
          },
          "metadata": {},
          "execution_count": 7
        }
      ]
    },
    {
      "cell_type": "code",
      "source": [
        "sent_classifier(\"Secondo lei, quale dovrebbe essere l’età raggiunta la quale le persone devono poter andare in pensione? Oppure, in alternativa, il numero di anni di contributi, raggiunti i quali, le persone devono poter andare in pensione indipendentemente dall’età che hanno? Dica un numero e spieghi perché le sembra l’età giusta (o il numero di anni di contributi giusto).\")"
      ],
      "metadata": {
        "colab": {
          "base_uri": "https://localhost:8080/"
        },
        "id": "5N_tM_E09TWC",
        "outputId": "b8fa14fe-56b9-4c65-a325-d64aa69d5c70"
      },
      "execution_count": null,
      "outputs": [
        {
          "output_type": "execute_result",
          "data": {
            "text/plain": [
              "[[{'label': 'negative', 'score': 0.9990572333335876},\n",
              "  {'label': 'positive', 'score': 0.0009428266785107553}]]"
            ]
          },
          "metadata": {},
          "execution_count": 8
        }
      ]
    }
  ]
}